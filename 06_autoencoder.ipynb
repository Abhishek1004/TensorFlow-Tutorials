{
  "nbformat": 4,
  "nbformat_minor": 0,
  "metadata": {
    "kernelspec": {
      "name": "python3",
      "display_name": "Python 3"
    },
    "colab": {
      "name": "Copy of 06_autoencoder.ipynb",
      "provenance": []
    },
    "accelerator": "GPU"
  },
  "cells": [
    {
      "cell_type": "markdown",
      "metadata": {
        "id": "ZvJfBaRn3P42",
        "colab_type": "text"
      },
      "source": [
        "# Autoencoders\n",
        "\n",
        "[Source](https://twitter.com/rickwierenga/status/1216801014004797446)"
      ]
    },
    {
      "cell_type": "code",
      "metadata": {
        "id": "ZDurKWtZd2ZK",
        "colab_type": "code",
        "outputId": "f7b7443d-77b4-4517-d2f9-b750d9507e48",
        "colab": {
          "base_uri": "https://localhost:8080/",
          "height": 34
        }
      },
      "source": [
        "%tensorflow_version 2.x"
      ],
      "execution_count": 1,
      "outputs": [
        {
          "output_type": "stream",
          "text": [
            "TensorFlow 2.x selected.\n"
          ],
          "name": "stdout"
        }
      ]
    },
    {
      "cell_type": "code",
      "metadata": {
        "id": "se3XrQkXfECV",
        "colab_type": "code",
        "outputId": "fa3666b7-e83e-4d17-f447-9a9a95dd5f05",
        "colab": {
          "base_uri": "https://localhost:8080/",
          "height": 34
        }
      },
      "source": [
        "%pylab inline"
      ],
      "execution_count": 2,
      "outputs": [
        {
          "output_type": "stream",
          "text": [
            "Populating the interactive namespace from numpy and matplotlib\n"
          ],
          "name": "stdout"
        }
      ]
    },
    {
      "cell_type": "code",
      "metadata": {
        "id": "mokbCApx3IL0",
        "colab_type": "code",
        "colab": {}
      },
      "source": [
        "import tensorflow as tf"
      ],
      "execution_count": 0,
      "outputs": []
    },
    {
      "cell_type": "code",
      "metadata": {
        "id": "UA4GoZEG4IB0",
        "colab_type": "code",
        "colab": {}
      },
      "source": [
        "(x_train, _), (x_test, _) = tf.keras.datasets.mnist.load_data()\n",
        "x_train = x_train / 255\n",
        "x_test = x_test / 255"
      ],
      "execution_count": 0,
      "outputs": []
    },
    {
      "cell_type": "markdown",
      "metadata": {
        "id": "nzMVAw8R3nHE",
        "colab_type": "text"
      },
      "source": [
        "# Simple auto encoder"
      ]
    },
    {
      "cell_type": "code",
      "metadata": {
        "id": "2kWUdt_frO5q",
        "colab_type": "code",
        "colab": {}
      },
      "source": [
        "encoder = tf.keras.models.Sequential([\n",
        "    tf.keras.layers.Flatten(input_shape=[28, 28]),\n",
        "    tf.keras.layers.Dense(100, activation=\"relu\"),\n",
        "    tf.keras.layers.Dense(30, activation=\"relu\"),\n",
        "])"
      ],
      "execution_count": 0,
      "outputs": []
    },
    {
      "cell_type": "code",
      "metadata": {
        "id": "MlY5WNZbrSlS",
        "colab_type": "code",
        "colab": {}
      },
      "source": [
        "decoder = tf.keras.models.Sequential([\n",
        "    tf.keras.layers.Dense(100, activation=\"relu\", input_shape=[30]),\n",
        "    tf.keras.layers.Dense(28 * 28, activation=\"sigmoid\"),\n",
        "    tf.keras.layers.Reshape([28, 28])\n",
        "])"
      ],
      "execution_count": 0,
      "outputs": []
    },
    {
      "cell_type": "code",
      "metadata": {
        "id": "wvcHl-xx4Az2",
        "colab_type": "code",
        "colab": {}
      },
      "source": [
        "stacked_autoencoder = tf.keras.models.Sequential([encoder, decoder])"
      ],
      "execution_count": 0,
      "outputs": []
    },
    {
      "cell_type": "code",
      "metadata": {
        "id": "vvREkPRD4DvD",
        "colab_type": "code",
        "colab": {}
      },
      "source": [
        "stacked_autoencoder.compile(loss=\"binary_crossentropy\",\n",
        "                   optimizer='adam')"
      ],
      "execution_count": 0,
      "outputs": []
    },
    {
      "cell_type": "code",
      "metadata": {
        "id": "IqaTTymB4Fq_",
        "colab_type": "code",
        "colab": {
          "base_uri": "https://localhost:8080/",
          "height": 374
        },
        "outputId": "78654578-1643-41b2-b60c-2d343f930ecc"
      },
      "source": [
        "history = stacked_autoencoder.fit(x_train, x_train, epochs=10,\n",
        "                                  validation_data=[x_test, x_test])"
      ],
      "execution_count": 9,
      "outputs": [
        {
          "output_type": "stream",
          "text": [
            "Train on 60000 samples, validate on 10000 samples\n",
            "Epoch 1/10\n",
            "60000/60000 [==============================] - 6s 94us/sample - loss: 0.1448 - val_loss: 0.1079\n",
            "Epoch 2/10\n",
            "60000/60000 [==============================] - 5s 86us/sample - loss: 0.1042 - val_loss: 0.0989\n",
            "Epoch 3/10\n",
            "60000/60000 [==============================] - 5s 83us/sample - loss: 0.0988 - val_loss: 0.0960\n",
            "Epoch 4/10\n",
            "60000/60000 [==============================] - 5s 83us/sample - loss: 0.0960 - val_loss: 0.0933\n",
            "Epoch 5/10\n",
            "60000/60000 [==============================] - 5s 84us/sample - loss: 0.0936 - val_loss: 0.0922\n",
            "Epoch 6/10\n",
            "60000/60000 [==============================] - 5s 82us/sample - loss: 0.0921 - val_loss: 0.0908\n",
            "Epoch 7/10\n",
            "60000/60000 [==============================] - 5s 82us/sample - loss: 0.0911 - val_loss: 0.0897\n",
            "Epoch 8/10\n",
            "60000/60000 [==============================] - 5s 83us/sample - loss: 0.0903 - val_loss: 0.0888\n",
            "Epoch 9/10\n",
            "60000/60000 [==============================] - 5s 82us/sample - loss: 0.0896 - val_loss: 0.0883\n",
            "Epoch 10/10\n",
            "60000/60000 [==============================] - 5s 83us/sample - loss: 0.0891 - val_loss: 0.0880\n"
          ],
          "name": "stdout"
        }
      ]
    },
    {
      "cell_type": "code",
      "metadata": {
        "id": "u-4mTsF94F16",
        "colab_type": "code",
        "colab": {
          "base_uri": "https://localhost:8080/",
          "height": 317
        },
        "outputId": "55bd9ee2-2693-4d44-aebf-ad6eeef136b3"
      },
      "source": [
        "figsize(20, 5)\n",
        "for i in range(8):\n",
        "  subplot(2, 8, i+1)\n",
        "  pred = stacked_autoencoder.predict(x_test[i].reshape((1, 28, 28)))\n",
        "  imshow(x_test[i], cmap=\"binary\")\n",
        "\n",
        "  subplot(2, 8, i+8+1)\n",
        "  imshow(pred.reshape((28, 28)), cmap=\"binary\")"
      ],
      "execution_count": 10,
      "outputs": [
        {
          "output_type": "display_data",
          "data": {
            "image/png": "[encoded data removed]",
            "text/plain": [
              "<Figure size 1440x360 with 16 Axes>"
            ]
          },
          "metadata": {
            "tags": []
          }
        }
      ]
    },
    {
      "cell_type": "markdown",
      "metadata": {
        "id": "9uUNg-cT4QlF",
        "colab_type": "text"
      },
      "source": [
        "## Convolutional auto encoder"
      ]
    },
    {
      "cell_type": "code",
      "metadata": {
        "id": "rHUxc2AC4PMi",
        "colab_type": "code",
        "colab": {}
      },
      "source": [
        "encoder = tf.keras.models.Sequential([\n",
        "    tf.keras.layers.Reshape([28, 28, 1], input_shape=[28, 28]),\n",
        "    tf.keras.layers.Conv2D(16, kernel_size=(3, 3), padding=\"same\", activation=\"relu\"),\n",
        "    tf.keras.layers.MaxPool2D(pool_size=2),\n",
        "    tf.keras.layers.Conv2D(32, kernel_size=(3, 3), padding=\"same\", activation=\"relu\"),\n",
        "    tf.keras.layers.MaxPool2D(pool_size=2),\n",
        "    tf.keras.layers.Conv2D(64, kernel_size=(3, 3), padding=\"same\", activation=\"relu\"),\n",
        "    tf.keras.layers.MaxPool2D(pool_size=2)\n",
        "])"
      ],
      "execution_count": 0,
      "outputs": []
    },
    {
      "cell_type": "code",
      "metadata": {
        "id": "jGg5m5Ey4VvF",
        "colab_type": "code",
        "colab": {}
      },
      "source": [
        "decoder = tf.keras.models.Sequential([\n",
        "    tf.keras.layers.Conv2DTranspose(32, kernel_size=(3, 3), strides=2, padding=\"valid\",\n",
        "                                    activation=\"relu\",\n",
        "                                    input_shape=[3, 3, 64]),\n",
        "    tf.keras.layers.Conv2DTranspose(16, kernel_size=(3, 3), strides=2, padding=\"same\",\n",
        "                                    activation=\"relu\"),\n",
        "    tf.keras.layers.Conv2DTranspose(1, kernel_size=(3, 3), strides=2, padding=\"same\",\n",
        "                                    activation=\"sigmoid\"),\n",
        "    tf.keras.layers.Reshape([28, 28])\n",
        "])"
      ],
      "execution_count": 0,
      "outputs": []
    },
    {
      "cell_type": "code",
      "metadata": {
        "id": "VbexhKjN1vBX",
        "colab_type": "code",
        "colab": {}
      },
      "source": [
        "stacked_autoencoder = tf.keras.models.Sequential([encoder, decoder])"
      ],
      "execution_count": 0,
      "outputs": []
    },
    {
      "cell_type": "code",
      "metadata": {
        "id": "30DUbxUk1r9S",
        "colab_type": "code",
        "colab": {}
      },
      "source": [
        "stacked_autoencoder.compile(loss=\"binary_crossentropy\",\n",
        "                            optimizer='adam')"
      ],
      "execution_count": 0,
      "outputs": []
    },
    {
      "cell_type": "code",
      "metadata": {
        "id": "NCstnS7BeNis",
        "colab_type": "code",
        "outputId": "8a8414ae-92d5-493a-d7a0-0cc21c1c6ffa",
        "colab": {
          "base_uri": "https://localhost:8080/",
          "height": 374
        }
      },
      "source": [
        "history = stacked_autoencoder.fit(x_train, x_train, epochs=10,\n",
        "                         validation_data=[x_test, x_test])"
      ],
      "execution_count": 15,
      "outputs": [
        {
          "output_type": "stream",
          "text": [
            "Train on 60000 samples, validate on 10000 samples\n",
            "Epoch 1/10\n",
            "60000/60000 [==============================] - 9s 152us/sample - loss: 0.1179 - val_loss: 0.0835\n",
            "Epoch 2/10\n",
            "60000/60000 [==============================] - 7s 112us/sample - loss: 0.0805 - val_loss: 0.0774\n",
            "Epoch 3/10\n",
            "60000/60000 [==============================] - 7s 112us/sample - loss: 0.0764 - val_loss: 0.0742\n",
            "Epoch 4/10\n",
            "60000/60000 [==============================] - 7s 111us/sample - loss: 0.0742 - val_loss: 0.0724\n",
            "Epoch 5/10\n",
            "60000/60000 [==============================] - 7s 113us/sample - loss: 0.0728 - val_loss: 0.0717\n",
            "Epoch 6/10\n",
            "60000/60000 [==============================] - 7s 110us/sample - loss: 0.0718 - val_loss: 0.0708\n",
            "Epoch 7/10\n",
            "60000/60000 [==============================] - 7s 111us/sample - loss: 0.0711 - val_loss: 0.0704\n",
            "Epoch 8/10\n",
            "60000/60000 [==============================] - 7s 111us/sample - loss: 0.0706 - val_loss: 0.0700\n",
            "Epoch 9/10\n",
            "60000/60000 [==============================] - 7s 111us/sample - loss: 0.0701 - val_loss: 0.0693\n",
            "Epoch 10/10\n",
            "60000/60000 [==============================] - 7s 111us/sample - loss: 0.0697 - val_loss: 0.0689\n"
          ],
          "name": "stdout"
        }
      ]
    },
    {
      "cell_type": "code",
      "metadata": {
        "id": "KhdR1YjS4dur",
        "colab_type": "code",
        "colab": {
          "base_uri": "https://localhost:8080/",
          "height": 317
        },
        "outputId": "12ba74c8-9a9a-4487-8730-a715b7b74063"
      },
      "source": [
        "figsize(20, 5)\n",
        "for i in range(8):\n",
        "  subplot(2, 8, i+1)\n",
        "  pred = stacked_autoencoder.predict(x_test[i].reshape((1, 28, 28)))\n",
        "  imshow(x_test[i], cmap=\"binary\")\n",
        "\n",
        "  subplot(2, 8, i+8+1)\n",
        "  imshow(pred.reshape((28, 28)), cmap=\"binary\")"
      ],
      "execution_count": 16,
      "outputs": [
        {
          "output_type": "display_data",
          "data": {
            "image/png": "[encoded data removed]",
            "text/plain": [
              "<Figure size 1440x360 with 16 Axes>"
            ]
          },
          "metadata": {
            "tags": []
          }
        }
      ]
    },
    {
      "cell_type": "markdown",
      "metadata": {
        "id": "0hSe9lFR4k7z",
        "colab_type": "text"
      },
      "source": [
        "## Denoising auto encoder"
      ]
    },
    {
      "cell_type": "code",
      "metadata": {
        "id": "ZWj3gHZ04mJT",
        "colab_type": "code",
        "colab": {}
      },
      "source": [
        "encoder = tf.keras.models.Sequential([\n",
        "    tf.keras.layers.Flatten(input_shape=[28, 28]),\n",
        "    tf.keras.layers.Dense(100, activation=\"relu\"),\n",
        "    tf.keras.layers.Dense(100, activation=\"relu\"),\n",
        "    tf.keras.layers.Dense(30, activation=\"relu\")\n",
        "])"
      ],
      "execution_count": 0,
      "outputs": []
    },
    {
      "cell_type": "code",
      "metadata": {
        "id": "OibuvIQc4ho5",
        "colab_type": "code",
        "colab": {}
      },
      "source": [
        "decoder = tf.keras.models.Sequential([\n",
        "    tf.keras.layers.Dense(100, activation=\"relu\", input_shape=[30]),\n",
        "    tf.keras.layers.Dense(100, activation=\"relu\"),\n",
        "    tf.keras.layers.Dense(28 * 28, activation=\"sigmoid\"),\n",
        "    tf.keras.layers.Reshape([28, 28])\n",
        "])"
      ],
      "execution_count": 0,
      "outputs": []
    },
    {
      "cell_type": "code",
      "metadata": {
        "id": "mZTPubqp4qte",
        "colab_type": "code",
        "colab": {}
      },
      "source": [
        "stacked_autoencoder = tf.keras.models.Sequential([encoder, decoder])"
      ],
      "execution_count": 0,
      "outputs": []
    },
    {
      "cell_type": "code",
      "metadata": {
        "id": "HFvxnafB4r0b",
        "colab_type": "code",
        "colab": {}
      },
      "source": [
        "stacked_autoencoder.compile(loss=\"binary_crossentropy\",\n",
        "                            optimizer='adam')"
      ],
      "execution_count": 0,
      "outputs": []
    },
    {
      "cell_type": "code",
      "metadata": {
        "id": "PZ1T_ofW4sus",
        "colab_type": "code",
        "colab": {}
      },
      "source": [
        "x_train_noise = x_train + ((np.random.random(x_train.shape)) / 4)\n",
        "x_test_noise = x_test + ((np.random.random(x_test.shape)) / 4)"
      ],
      "execution_count": 0,
      "outputs": []
    },
    {
      "cell_type": "code",
      "metadata": {
        "id": "NyPLjcYr4uED",
        "colab_type": "code",
        "colab": {
          "base_uri": "https://localhost:8080/",
          "height": 374
        },
        "outputId": "d0a5d4ca-a9f3-42a8-c565-31455912e9eb"
      },
      "source": [
        "history = stacked_autoencoder.fit(x_train_noise, x_train, epochs=10,\n",
        "                                  validation_data=[x_test_noise, x_test])"
      ],
      "execution_count": 22,
      "outputs": [
        {
          "output_type": "stream",
          "text": [
            "Train on 60000 samples, validate on 10000 samples\n",
            "Epoch 1/10\n",
            "60000/60000 [==============================] - 6s 97us/sample - loss: 0.1631 - val_loss: 0.1248\n",
            "Epoch 2/10\n",
            "60000/60000 [==============================] - 5s 90us/sample - loss: 0.1194 - val_loss: 0.1121\n",
            "Epoch 3/10\n",
            "60000/60000 [==============================] - 5s 90us/sample - loss: 0.1100 - val_loss: 0.1052\n",
            "Epoch 4/10\n",
            "60000/60000 [==============================] - 6s 93us/sample - loss: 0.1051 - val_loss: 0.1020\n",
            "Epoch 5/10\n",
            "60000/60000 [==============================] - 5s 89us/sample - loss: 0.1018 - val_loss: 0.0995\n",
            "Epoch 6/10\n",
            "60000/60000 [==============================] - 5s 89us/sample - loss: 0.0996 - val_loss: 0.0971\n",
            "Epoch 7/10\n",
            "60000/60000 [==============================] - 5s 89us/sample - loss: 0.0982 - val_loss: 0.0964\n",
            "Epoch 8/10\n",
            "60000/60000 [==============================] - 5s 89us/sample - loss: 0.0973 - val_loss: 0.0955\n",
            "Epoch 9/10\n",
            "60000/60000 [==============================] - 5s 89us/sample - loss: 0.0965 - val_loss: 0.0967\n",
            "Epoch 10/10\n",
            "60000/60000 [==============================] - 5s 89us/sample - loss: 0.0959 - val_loss: 0.0946\n"
          ],
          "name": "stdout"
        }
      ]
    },
    {
      "cell_type": "code",
      "metadata": {
        "id": "853h_kqq4voD",
        "colab_type": "code",
        "colab": {
          "base_uri": "https://localhost:8080/",
          "height": 317
        },
        "outputId": "46e26231-13c7-4679-ae99-c7c6697da6c6"
      },
      "source": [
        "figsize(20, 5)\n",
        "for i in range(8):\n",
        "  subplot(2, 8, i+1)\n",
        "  imshow(x_test_noise[i], cmap=\"binary\")\n",
        "\n",
        "  subplot(2, 8, i+8+1)\n",
        "  pred = stacked_autoencoder.predict(x_test_noise[i].reshape((1, 28, 28)))\n",
        "  imshow(pred.reshape((28, 28)), cmap=\"binary\")"
      ],
      "execution_count": 23,
      "outputs": [
        {
          "output_type": "display_data",
          "data": {
            "image/png": "[encoded data removed]",
            "text/plain": [
              "<Figure size 1440x360 with 16 Axes>"
            ]
          },
          "metadata": {
            "tags": []
          }
        }
      ]
    }
  ]
}