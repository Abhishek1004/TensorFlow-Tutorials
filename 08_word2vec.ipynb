{
  "nbformat": 4,
  "nbformat_minor": 0,
  "metadata": {
    "colab": {
      "name": "Word2Vec.ipynb",
      "provenance": [],
      "collapsed_sections": []
    },
    "kernelspec": {
      "name": "python3",
      "display_name": "Python 3"
    },
    "accelerator": "GPU",
    "widgets": {
      "application/vnd.jupyter.widget-state+json": {
        "cd6cb5deb8754144b66a54dce01b8498": {
          "model_module": "@jupyter-widgets/controls",
          "model_name": "HBoxModel",
          "state": {
            "_view_name": "HBoxView",
            "_dom_classes": [],
            "_model_name": "HBoxModel",
            "_view_module": "@jupyter-widgets/controls",
            "_model_module_version": "1.5.0",
            "_view_count": null,
            "_view_module_version": "1.5.0",
            "box_style": "",
            "layout": "IPY_MODEL_7d82457b2f8c4632921c3bf628788dfd",
            "_model_module": "@jupyter-widgets/controls",
            "children": [
              "IPY_MODEL_4b75c3384a304414abf1af331d7d5428",
              "IPY_MODEL_03c4acc38ac146d1a106de771982d4b7"
            ]
          }
        },
        "5874f4ee4ea94abba1a82a4ea4a588b5": {
          "model_module": "@jupyter-widgets/controls",
          "model_name": "HBoxModel",
          "state": {
            "_view_name": "HBoxView",
            "_dom_classes": [],
            "_model_name": "HBoxModel",
            "_view_module": "@jupyter-widgets/controls",
            "_model_module_version": "1.5.0",
            "_view_count": null,
            "_view_module_version": "1.5.0",
            "box_style": "",
            "layout": "IPY_MODEL_6b9557e5b5cb42e3a87e0621889e4148",
            "_model_module": "@jupyter-widgets/controls",
            "children": [
              "IPY_MODEL_bb228f4d61aa48019bb4e40410793a5f",
              "IPY_MODEL_346ba8ba42704954a33f8445961f86e1"
            ]
          }
        },
        "522c648334714972991978293006f1fc": {
          "model_module": "@jupyter-widgets/controls",
          "model_name": "HBoxModel",
          "state": {
            "_view_name": "HBoxView",
            "_dom_classes": [],
            "_model_name": "HBoxModel",
            "_view_module": "@jupyter-widgets/controls",
            "_model_module_version": "1.5.0",
            "_view_count": null,
            "_view_module_version": "1.5.0",
            "box_style": "",
            "layout": "IPY_MODEL_54a3952ae55d418584fb0e8712122acc",
            "_model_module": "@jupyter-widgets/controls",
            "children": [
              "IPY_MODEL_db8af164bf2f45b7af34b0e83a6a7949",
              "IPY_MODEL_ca29ec69e649435297216ff2278466e2"
            ]
          }
        },
        "74087502aa4b4194abf07cf27074fde5": {
          "model_module": "@jupyter-widgets/controls",
          "model_name": "HBoxModel",
          "state": {
            "_view_name": "HBoxView",
            "_dom_classes": [],
            "_model_name": "HBoxModel",
            "_view_module": "@jupyter-widgets/controls",
            "_model_module_version": "1.5.0",
            "_view_count": null,
            "_view_module_version": "1.5.0",
            "box_style": "",
            "layout": "IPY_MODEL_ae454e89fb45495bb1074bc5efb284b6",
            "_model_module": "@jupyter-widgets/controls",
            "children": [
              "IPY_MODEL_e2636c1c144b437b989fe6832fc3652b",
              "IPY_MODEL_d676171bc65d4654a5df9c06a54d0a66"
            ]
          }
        },
        "f059fe60431f4be891c2da21826f44de": {
          "model_module": "@jupyter-widgets/controls",
          "model_name": "HBoxModel",
          "state": {
            "_view_name": "HBoxView",
            "_dom_classes": [],
            "_model_name": "HBoxModel",
            "_view_module": "@jupyter-widgets/controls",
            "_model_module_version": "1.5.0",
            "_view_count": null,
            "_view_module_version": "1.5.0",
            "box_style": "",
            "layout": "IPY_MODEL_5177ed1091fc4ecc8f21b50abc6840a8",
            "_model_module": "@jupyter-widgets/controls",
            "children": [
              "IPY_MODEL_daf2e54026ac403f82884e9c59337045",
              "IPY_MODEL_9bd3d105772542b599764f76915a5e12"
            ]
          }
        },
        "772ca913783e4f26b8fa8fc2480fd626": {
          "model_module": "@jupyter-widgets/controls",
          "model_name": "HBoxModel",
          "state": {
            "_view_name": "HBoxView",
            "_dom_classes": [],
            "_model_name": "HBoxModel",
            "_view_module": "@jupyter-widgets/controls",
            "_model_module_version": "1.5.0",
            "_view_count": null,
            "_view_module_version": "1.5.0",
            "box_style": "",
            "layout": "IPY_MODEL_9029502c19bb47468412a77d866491cb",
            "_model_module": "@jupyter-widgets/controls",
            "children": [
              "IPY_MODEL_a29931e525b9487292c5a3835d93d9e5",
              "IPY_MODEL_fff9b42e2e584690b16b67239d6627a3"
            ]
          }
        },
        "03c04eacde6b47119cb50a0b30a8a5ff": {
          "model_module": "@jupyter-widgets/controls",
          "model_name": "HBoxModel",
          "state": {
            "_view_name": "HBoxView",
            "_dom_classes": [],
            "_model_name": "HBoxModel",
            "_view_module": "@jupyter-widgets/controls",
            "_model_module_version": "1.5.0",
            "_view_count": null,
            "_view_module_version": "1.5.0",
            "box_style": "",
            "layout": "IPY_MODEL_6404dca6e173484c8b48d4abd3aa63e3",
            "_model_module": "@jupyter-widgets/controls",
            "children": [
              "IPY_MODEL_8abe9c03ca654de8b1cfbf19af76c3a7",
              "IPY_MODEL_321578746c254d35ba04f060fe790461"
            ]
          }
        },
        "0b6d3bd57a224078b57aed68040b688b": {
          "model_module": "@jupyter-widgets/controls",
          "model_name": "HBoxModel",
          "state": {
            "_view_name": "HBoxView",
            "_dom_classes": [],
            "_model_name": "HBoxModel",
            "_view_module": "@jupyter-widgets/controls",
            "_model_module_version": "1.5.0",
            "_view_count": null,
            "_view_module_version": "1.5.0",
            "box_style": "",
            "layout": "IPY_MODEL_fbaecbe132a949758d5fef8a003355d2",
            "_model_module": "@jupyter-widgets/controls",
            "children": [
              "IPY_MODEL_0d47d883626847fe8dc5c241b051225a",
              "IPY_MODEL_4b9ea5f089a0409f9707416dc00eec97"
            ]
          }
        },
        "cb6b4f25283d461e9d6c36670c56ea7c": {
          "model_module": "@jupyter-widgets/controls",
          "model_name": "HBoxModel",
          "state": {
            "_view_name": "HBoxView",
            "_dom_classes": [],
            "_model_name": "HBoxModel",
            "_view_module": "@jupyter-widgets/controls",
            "_model_module_version": "1.5.0",
            "_view_count": null,
            "_view_module_version": "1.5.0",
            "box_style": "",
            "layout": "IPY_MODEL_529ee092525b47aea1fdb04e3fe4591a",
            "_model_module": "@jupyter-widgets/controls",
            "children": [
              "IPY_MODEL_6f69b9ccbb71491cbf3a75f7af334e47",
              "IPY_MODEL_757d6684bdf448b09bd028201586ce7b"
            ]
          }
        },
        "b27095a0d20647ebb507b50b51a2f5c8": {
          "model_module": "@jupyter-widgets/controls",
          "model_name": "HBoxModel",
          "state": {
            "_view_name": "HBoxView",
            "_dom_classes": [],
            "_model_name": "HBoxModel",
            "_view_module": "@jupyter-widgets/controls",
            "_model_module_version": "1.5.0",
            "_view_count": null,
            "_view_module_version": "1.5.0",
            "box_style": "",
            "layout": "IPY_MODEL_c3d86dce172d414687f0c420b9a29019",
            "_model_module": "@jupyter-widgets/controls",
            "children": [
              "IPY_MODEL_198cdca875fb41ef901c1481d71870a2",
              "IPY_MODEL_6630fce37a454633b20b383a76db635e"
            ]
          }
        },
        "740ba91a923946a996a247d26eda040f": {
          "model_module": "@jupyter-widgets/controls",
          "model_name": "HBoxModel",
          "state": {
            "_view_name": "HBoxView",
            "_dom_classes": [],
            "_model_name": "HBoxModel",
            "_view_module": "@jupyter-widgets/controls",
            "_model_module_version": "1.5.0",
            "_view_count": null,
            "_view_module_version": "1.5.0",
            "box_style": "",
            "layout": "IPY_MODEL_84eddc47956c49ec8d673b63953517dd",
            "_model_module": "@jupyter-widgets/controls",
            "children": [
              "IPY_MODEL_7f61f17572f14a4888fa6ae6e839050b",
              "IPY_MODEL_baf0f2bc49ed4d86847073ce94dc8ada"
            ]
          }
        },
        "9fdbc9e9b7a54a578b590d536959b7c7": {
          "model_module": "@jupyter-widgets/controls",
          "model_name": "HBoxModel",
          "state": {
            "_view_name": "HBoxView",
            "_dom_classes": [],
            "_model_name": "HBoxModel",
            "_view_module": "@jupyter-widgets/controls",
            "_model_module_version": "1.5.0",
            "_view_count": null,
            "_view_module_version": "1.5.0",
            "box_style": "",
            "layout": "IPY_MODEL_87fa7b4dc8c249239d257c24c896fc95",
            "_model_module": "@jupyter-widgets/controls",
            "children": [
              "IPY_MODEL_0259184e1b3b4a31b782989f58ef4b93",
              "IPY_MODEL_820e216089de45db979ec49728cc93e9"
            ]
          }
        },
        "70232ff42cf64f218995aacf060b7d5c": {
          "model_module": "@jupyter-widgets/controls",
          "model_name": "HBoxModel",
          "state": {
            "_view_name": "HBoxView",
            "_dom_classes": [],
            "_model_name": "HBoxModel",
            "_view_module": "@jupyter-widgets/controls",
            "_model_module_version": "1.5.0",
            "_view_count": null,
            "_view_module_version": "1.5.0",
            "box_style": "",
            "layout": "IPY_MODEL_2f3eae4cf10b477d8fa7e435c7567dd2",
            "_model_module": "@jupyter-widgets/controls",
            "children": [
              "IPY_MODEL_a5b6b24e21494f4e85fdfb85c0ba53d9",
              "IPY_MODEL_f9dd715c6ce549b9abe1b7cf10fd3ea9"
            ]
          }
        },
        "df12a354a3ee4a73a4ac11c91478dd69": {
          "model_module": "@jupyter-widgets/controls",
          "model_name": "HBoxModel",
          "state": {
            "_view_name": "HBoxView",
            "_dom_classes": [],
            "_model_name": "HBoxModel",
            "_view_module": "@jupyter-widgets/controls",
            "_model_module_version": "1.5.0",
            "_view_count": null,
            "_view_module_version": "1.5.0",
            "box_style": "",
            "layout": "IPY_MODEL_252d145aaeb3453db9678989eb31197d",
            "_model_module": "@jupyter-widgets/controls",
            "children": [
              "IPY_MODEL_1f16461dc618485e813fa67f94099f2a",
              "IPY_MODEL_54ab4281e13a41f8b945ae79101a4e95"
            ]
          }
        },
        "3267043f9b8b4ef5bc05b4824fe38939": {
          "model_module": "@jupyter-widgets/controls",
          "model_name": "HBoxModel",
          "state": {
            "_view_name": "HBoxView",
            "_dom_classes": [],
            "_model_name": "HBoxModel",
            "_view_module": "@jupyter-widgets/controls",
            "_model_module_version": "1.5.0",
            "_view_count": null,
            "_view_module_version": "1.5.0",
            "box_style": "",
            "layout": "IPY_MODEL_0e3163a2616447cdbbd256eb3e6541a5",
            "_model_module": "@jupyter-widgets/controls",
            "children": [
              "IPY_MODEL_8014d5b1fa4340fabe8f1373723dd744",
              "IPY_MODEL_1ea91fcd563b463fa8ef9a5482e36259"
            ]
          }
        },
        "43cf6a48039f43a2939ff5d4e9fa8e43": {
          "model_module": "@jupyter-widgets/controls",
          "model_name": "HBoxModel",
          "state": {
            "_view_name": "HBoxView",
            "_dom_classes": [],
            "_model_name": "HBoxModel",
            "_view_module": "@jupyter-widgets/controls",
            "_model_module_version": "1.5.0",
            "_view_count": null,
            "_view_module_version": "1.5.0",
            "box_style": "",
            "layout": "IPY_MODEL_609f7eb8a8824147977268877cca588d",
            "_model_module": "@jupyter-widgets/controls",
            "children": [
              "IPY_MODEL_d2522e3bd32d47e19e69f55172fba6eb",
              "IPY_MODEL_b700820193d549b0a9fbf18f16039253"
            ]
          }
        },
        "dce1679bc32b406fb3b38939ab22f9a7": {
          "model_module": "@jupyter-widgets/controls",
          "model_name": "HBoxModel",
          "state": {
            "_view_name": "HBoxView",
            "_dom_classes": [],
            "_model_name": "HBoxModel",
            "_view_module": "@jupyter-widgets/controls",
            "_model_module_version": "1.5.0",
            "_view_count": null,
            "_view_module_version": "1.5.0",
            "box_style": "",
            "layout": "IPY_MODEL_e72afc6f12c940dfa912e120273f2516",
            "_model_module": "@jupyter-widgets/controls",
            "children": [
              "IPY_MODEL_bb90fef424114b158cc128a78b78b998",
              "IPY_MODEL_bcb3dc8f6ada442f80a2f74ea011346b"
            ]
          }
        },
        "b33575808ac7425096ce6827c4647872": {
          "model_module": "@jupyter-widgets/controls",
          "model_name": "HBoxModel",
          "state": {
            "_view_name": "HBoxView",
            "_dom_classes": [],
            "_model_name": "HBoxModel",
            "_view_module": "@jupyter-widgets/controls",
            "_model_module_version": "1.5.0",
            "_view_count": null,
            "_view_module_version": "1.5.0",
            "box_style": "",
            "layout": "IPY_MODEL_b21b5eeb94ad4d0299bcd1ee8419f611",
            "_model_module": "@jupyter-widgets/controls",
            "children": [
              "IPY_MODEL_e7d6215338af424dbbb37f31f5ed2158",
              "IPY_MODEL_203b5933d570455b85883d3554931c33"
            ]
          }
        },
        "bb58e35703f641959bec3d4edcdc03c9": {
          "model_module": "@jupyter-widgets/controls",
          "model_name": "HBoxModel",
          "state": {
            "_view_name": "HBoxView",
            "_dom_classes": [],
            "_model_name": "HBoxModel",
            "_view_module": "@jupyter-widgets/controls",
            "_model_module_version": "1.5.0",
            "_view_count": null,
            "_view_module_version": "1.5.0",
            "box_style": "",
            "layout": "IPY_MODEL_d6f627b831ec4e2fa61ea3ff3cb62cab",
            "_model_module": "@jupyter-widgets/controls",
            "children": [
              "IPY_MODEL_64513827689c4105882846ed428f67a3",
              "IPY_MODEL_8a93d1816dd147fbb85a79e7339cc5ff"
            ]
          }
        },
        "54d70664ab54499fb63a3619852a462c": {
          "model_module": "@jupyter-widgets/controls",
          "model_name": "HBoxModel",
          "state": {
            "_view_name": "HBoxView",
            "_dom_classes": [],
            "_model_name": "HBoxModel",
            "_view_module": "@jupyter-widgets/controls",
            "_model_module_version": "1.5.0",
            "_view_count": null,
            "_view_module_version": "1.5.0",
            "box_style": "",
            "layout": "IPY_MODEL_bde54bbc676a421e84eb246c34b0f9d9",
            "_model_module": "@jupyter-widgets/controls",
            "children": [
              "IPY_MODEL_d2d4d3875cbd4f02bbcb1c64cc96cb85",
              "IPY_MODEL_1e79653463f24b11aa277204dd845cf3"
            ]
          }
        },
        "d9c4de5ccd1947f596d3fa56f254e6a9": {
          "model_module": "@jupyter-widgets/controls",
          "model_name": "HBoxModel",
          "state": {
            "_view_name": "HBoxView",
            "_dom_classes": [],
            "_model_name": "HBoxModel",
            "_view_module": "@jupyter-widgets/controls",
            "_model_module_version": "1.5.0",
            "_view_count": null,
            "_view_module_version": "1.5.0",
            "box_style": "",
            "layout": "IPY_MODEL_d3e633748b594cdb841e0acee5344883",
            "_model_module": "@jupyter-widgets/controls",
            "children": [
              "IPY_MODEL_ad1c9a9f826e4826aa7b69ae4325f068",
              "IPY_MODEL_371d96168abb41bb90fc6a1259d44fc6"
            ]
          }
        },
        "e9c26ecf032648d494ff8868f9247620": {
          "model_module": "@jupyter-widgets/controls",
          "model_name": "HBoxModel",
          "state": {
            "_view_name": "HBoxView",
            "_dom_classes": [],
            "_model_name": "HBoxModel",
            "_view_module": "@jupyter-widgets/controls",
            "_model_module_version": "1.5.0",
            "_view_count": null,
            "_view_module_version": "1.5.0",
            "box_style": "",
            "layout": "IPY_MODEL_2991408d1a5a4c55ae25f974bd5a4c1c",
            "_model_module": "@jupyter-widgets/controls",
            "children": [
              "IPY_MODEL_d71ffac9a78b459e9855a16167d7b35e",
              "IPY_MODEL_dfd7357702d546c1aa940f20e27953f6"
            ]
          }
        },
        "dc8d3be764024b9cb1a66fa9ce85ebbf": {
          "model_module": "@jupyter-widgets/controls",
          "model_name": "HBoxModel",
          "state": {
            "_view_name": "HBoxView",
            "_dom_classes": [],
            "_model_name": "HBoxModel",
            "_view_module": "@jupyter-widgets/controls",
            "_model_module_version": "1.5.0",
            "_view_count": null,
            "_view_module_version": "1.5.0",
            "box_style": "",
            "layout": "IPY_MODEL_dc4336455b284067ace4a63f183989a6",
            "_model_module": "@jupyter-widgets/controls",
            "children": [
              "IPY_MODEL_15f3b6a460af4b8a94202f0b084ce536",
              "IPY_MODEL_aa8b75a33bea44c488bef1ff4b6c9a5e"
            ]
          }
        },
        "b74b5766616a41b9b1d8588fb099b1b6": {
          "model_module": "@jupyter-widgets/controls",
          "model_name": "HBoxModel",
          "state": {
            "_view_name": "HBoxView",
            "_dom_classes": [],
            "_model_name": "HBoxModel",
            "_view_module": "@jupyter-widgets/controls",
            "_model_module_version": "1.5.0",
            "_view_count": null,
            "_view_module_version": "1.5.0",
            "box_style": "",
            "layout": "IPY_MODEL_0d2d5c381a354ea7980470523e31b8e5",
            "_model_module": "@jupyter-widgets/controls",
            "children": [
              "IPY_MODEL_716243a9dc9d49b29a803be9868d191a",
              "IPY_MODEL_b566016f345f4897bb9d2235ec5d67b0"
            ]
          }
        },
        "064a436c09894ca6a84a1ff36422ddf0": {
          "model_module": "@jupyter-widgets/controls",
          "model_name": "HBoxModel",
          "state": {
            "_view_name": "HBoxView",
            "_dom_classes": [],
            "_model_name": "HBoxModel",
            "_view_module": "@jupyter-widgets/controls",
            "_model_module_version": "1.5.0",
            "_view_count": null,
            "_view_module_version": "1.5.0",
            "box_style": "",
            "layout": "IPY_MODEL_6220e53ba15b46c3a9a6aa46d973ef84",
            "_model_module": "@jupyter-widgets/controls",
            "children": [
              "IPY_MODEL_ef4faffccd8d4f7ba78fbbf34b2dd651",
              "IPY_MODEL_defc58c0ed5442b790b6166698455b6c"
            ]
          }
        },
        "a0dd59592f1f49c6816a8783bd7e534b": {
          "model_module": "@jupyter-widgets/controls",
          "model_name": "HBoxModel",
          "state": {
            "_view_name": "HBoxView",
            "_dom_classes": [],
            "_model_name": "HBoxModel",
            "_view_module": "@jupyter-widgets/controls",
            "_model_module_version": "1.5.0",
            "_view_count": null,
            "_view_module_version": "1.5.0",
            "box_style": "",
            "layout": "IPY_MODEL_98b4b8e01f344d8d9dcbec7af7a5f059",
            "_model_module": "@jupyter-widgets/controls",
            "children": [
              "IPY_MODEL_79f12ccfb4c746258ba7a2bee1813646",
              "IPY_MODEL_4ee937bbdf4b453094c058878e67d9c9"
            ]
          }
        },
        "d2d08f3e724048a1b2285796e1f05bfd": {
          "model_module": "@jupyter-widgets/controls",
          "model_name": "HBoxModel",
          "state": {
            "_view_name": "HBoxView",
            "_dom_classes": [],
            "_model_name": "HBoxModel",
            "_view_module": "@jupyter-widgets/controls",
            "_model_module_version": "1.5.0",
            "_view_count": null,
            "_view_module_version": "1.5.0",
            "box_style": "",
            "layout": "IPY_MODEL_1288425a58ba498bb891270fa4a3e337",
            "_model_module": "@jupyter-widgets/controls",
            "children": [
              "IPY_MODEL_ce248d6700ff43979983363d4de2c696",
              "IPY_MODEL_5f6cea862e8e40f489fe7a743ef7b594"
            ]
          }
        },
        "20f3c420939b4785bc6faae50bcbb069": {
          "model_module": "@jupyter-widgets/controls",
          "model_name": "HBoxModel",
          "state": {
            "_view_name": "HBoxView",
            "_dom_classes": [],
            "_model_name": "HBoxModel",
            "_view_module": "@jupyter-widgets/controls",
            "_model_module_version": "1.5.0",
            "_view_count": null,
            "_view_module_version": "1.5.0",
            "box_style": "",
            "layout": "IPY_MODEL_f4d452d5143041ddaed94cfebeee16ee",
            "_model_module": "@jupyter-widgets/controls",
            "children": [
              "IPY_MODEL_7f32f816840b4d3d8481d35d15ac4424",
              "IPY_MODEL_fd236d7ae6e74ac4ba7ab7d89fd7b892"
            ]
          }
        },
        "cfa5ab6b706547e4a64ed5b468d6ab2a": {
          "model_module": "@jupyter-widgets/controls",
          "model_name": "HBoxModel",
          "state": {
            "_view_name": "HBoxView",
            "_dom_classes": [],
            "_model_name": "HBoxModel",
            "_view_module": "@jupyter-widgets/controls",
            "_model_module_version": "1.5.0",
            "_view_count": null,
            "_view_module_version": "1.5.0",
            "box_style": "",
            "layout": "IPY_MODEL_86d468ec9a9b496b90eb681bb6c6eb5b",
            "_model_module": "@jupyter-widgets/controls",
            "children": [
              "IPY_MODEL_2b55c8f402864049b5bc9b5942bf42b4",
              "IPY_MODEL_1cca7547bcea48f1858debdd3a2234b2"
            ]
          }
        },
        "01b12a9813554d44a441b0da9d37a0ce": {
          "model_module": "@jupyter-widgets/controls",
          "model_name": "HBoxModel",
          "state": {
            "_view_name": "HBoxView",
            "_dom_classes": [],
            "_model_name": "HBoxModel",
            "_view_module": "@jupyter-widgets/controls",
            "_model_module_version": "1.5.0",
            "_view_count": null,
            "_view_module_version": "1.5.0",
            "box_style": "",
            "layout": "IPY_MODEL_42cad696f89a48799a8ef5aa20f34e12",
            "_model_module": "@jupyter-widgets/controls",
            "children": [
              "IPY_MODEL_a4bc243b0a1646cfb9e89fe5421b969e",
              "IPY_MODEL_9d3f5d95b94a45bbb8e97d2fee6083b3"
            ]
          }
        },
        "e4aed87a4bdf413bacbf90c047d39889": {
          "model_module": "@jupyter-widgets/controls",
          "model_name": "HBoxModel",
          "state": {
            "_view_name": "HBoxView",
            "_dom_classes": [],
            "_model_name": "HBoxModel",
            "_view_module": "@jupyter-widgets/controls",
            "_model_module_version": "1.5.0",
            "_view_count": null,
            "_view_module_version": "1.5.0",
            "box_style": "",
            "layout": "IPY_MODEL_0d2325140bc949aba2b346aba23d0a47",
            "_model_module": "@jupyter-widgets/controls",
            "children": [
              "IPY_MODEL_abe3f853e534487ab1bba4e13ff43eab",
              "IPY_MODEL_161aebb8dfd74e209bdee2cb98834145"
            ]
          }
        },
        "edd32d0e5c7a4478bc98d32303d141d7": {
          "model_module": "@jupyter-widgets/controls",
          "model_name": "HBoxModel",
          "state": {
            "_view_name": "HBoxView",
            "_dom_classes": [],
            "_model_name": "HBoxModel",
            "_view_module": "@jupyter-widgets/controls",
            "_model_module_version": "1.5.0",
            "_view_count": null,
            "_view_module_version": "1.5.0",
            "box_style": "",
            "layout": "IPY_MODEL_e7d1ba916e854100a6638a3e732fde06",
            "_model_module": "@jupyter-widgets/controls",
            "children": [
              "IPY_MODEL_04e86e2b200c4e01b3deadd77e4c209a",
              "IPY_MODEL_4880b9bab31c42a9bf6640625af84756"
            ]
          }
        },
        "ebe031ffe1c34e6cb14d3aa070d46369": {
          "model_module": "@jupyter-widgets/controls",
          "model_name": "HBoxModel",
          "state": {
            "_view_name": "HBoxView",
            "_dom_classes": [],
            "_model_name": "HBoxModel",
            "_view_module": "@jupyter-widgets/controls",
            "_model_module_version": "1.5.0",
            "_view_count": null,
            "_view_module_version": "1.5.0",
            "box_style": "",
            "layout": "IPY_MODEL_d5170da18e6346548cd343da42ffe4ca",
            "_model_module": "@jupyter-widgets/controls",
            "children": [
              "IPY_MODEL_62ba21d5b320430d97a4651f64776fca",
              "IPY_MODEL_6ed2dbf7b515424a96672756d61f37f8"
            ]
          }
        },
        "bc02e9c9171a4717bfbfe21d74508fa9": {
          "model_module": "@jupyter-widgets/controls",
          "model_name": "HBoxModel",
          "state": {
            "_view_name": "HBoxView",
            "_dom_classes": [],
            "_model_name": "HBoxModel",
            "_view_module": "@jupyter-widgets/controls",
            "_model_module_version": "1.5.0",
            "_view_count": null,
            "_view_module_version": "1.5.0",
            "box_style": "",
            "layout": "IPY_MODEL_626d9a6e110a4826b1c2281ab1ec6fca",
            "_model_module": "@jupyter-widgets/controls",
            "children": [
              "IPY_MODEL_175279f237114e64b7d30ae7f0c4d627",
              "IPY_MODEL_b06a327029774deb9e88b6f7e300d290"
            ]
          }
        },
        "a715f803526648b29c2df4f11b249041": {
          "model_module": "@jupyter-widgets/controls",
          "model_name": "HBoxModel",
          "state": {
            "_view_name": "HBoxView",
            "_dom_classes": [],
            "_model_name": "HBoxModel",
            "_view_module": "@jupyter-widgets/controls",
            "_model_module_version": "1.5.0",
            "_view_count": null,
            "_view_module_version": "1.5.0",
            "box_style": "",
            "layout": "IPY_MODEL_269290c1624e4e3393b0057d90a3fb2c",
            "_model_module": "@jupyter-widgets/controls",
            "children": [
              "IPY_MODEL_7d0cf5a72c744e0da3f33207248e4c51",
              "IPY_MODEL_bdab28202ab44ef2993a1bf33c08459a"
            ]
          }
        },
        "16592afa2fee4936a1aa8c76595f5a7b": {
          "model_module": "@jupyter-widgets/controls",
          "model_name": "HBoxModel",
          "state": {
            "_view_name": "HBoxView",
            "_dom_classes": [],
            "_model_name": "HBoxModel",
            "_view_module": "@jupyter-widgets/controls",
            "_model_module_version": "1.5.0",
            "_view_count": null,
            "_view_module_version": "1.5.0",
            "box_style": "",
            "layout": "IPY_MODEL_35af8f1467e14cf4babd98687b1258bc",
            "_model_module": "@jupyter-widgets/controls",
            "children": [
              "IPY_MODEL_d2f7647737a8486dbd01bc33be851a9d",
              "IPY_MODEL_7b62802735ec4ae0bd5bb48f23a37aa7"
            ]
          }
        },
        "2e563f0e6c474f14941bce177f9db7ef": {
          "model_module": "@jupyter-widgets/controls",
          "model_name": "HBoxModel",
          "state": {
            "_view_name": "HBoxView",
            "_dom_classes": [],
            "_model_name": "HBoxModel",
            "_view_module": "@jupyter-widgets/controls",
            "_model_module_version": "1.5.0",
            "_view_count": null,
            "_view_module_version": "1.5.0",
            "box_style": "",
            "layout": "IPY_MODEL_da1e9d3806ac4bb98ba64fbf5cd8885a",
            "_model_module": "@jupyter-widgets/controls",
            "children": [
              "IPY_MODEL_b4ef2c8e166a40e1b8018808a62a2883",
              "IPY_MODEL_683b9bac14ee44ee9d19541060e6d1ab"
            ]
          }
        },
        "221ab2f27cd7401694c4e31eb26e2c62": {
          "model_module": "@jupyter-widgets/controls",
          "model_name": "HBoxModel",
          "state": {
            "_view_name": "HBoxView",
            "_dom_classes": [],
            "_model_name": "HBoxModel",
            "_view_module": "@jupyter-widgets/controls",
            "_model_module_version": "1.5.0",
            "_view_count": null,
            "_view_module_version": "1.5.0",
            "box_style": "",
            "layout": "IPY_MODEL_2868524b55934b9fb7455a7a55ac2cb3",
            "_model_module": "@jupyter-widgets/controls",
            "children": [
              "IPY_MODEL_86f631a854534a339e9bea7b902385c7",
              "IPY_MODEL_ea153847a0b44c17895eea3b885dc5e4"
            ]
          }
        },
        "536a0309bcad444ab3bacd8a71c321a3": {
          "model_module": "@jupyter-widgets/controls",
          "model_name": "HBoxModel",
          "state": {
            "_view_name": "HBoxView",
            "_dom_classes": [],
            "_model_name": "HBoxModel",
            "_view_module": "@jupyter-widgets/controls",
            "_model_module_version": "1.5.0",
            "_view_count": null,
            "_view_module_version": "1.5.0",
            "box_style": "",
            "layout": "IPY_MODEL_76190d619eed430e9fe91c4534a84f6e",
            "_model_module": "@jupyter-widgets/controls",
            "children": [
              "IPY_MODEL_b451d6025d5f49b58a79604173529c68",
              "IPY_MODEL_2439ab894b4847c4a9d54671ec09e6ef"
            ]
          }
        },
        "44a1652334d449bfa71eb258bc914e42": {
          "model_module": "@jupyter-widgets/controls",
          "model_name": "HBoxModel",
          "state": {
            "_view_name": "HBoxView",
            "_dom_classes": [],
            "_model_name": "HBoxModel",
            "_view_module": "@jupyter-widgets/controls",
            "_model_module_version": "1.5.0",
            "_view_count": null,
            "_view_module_version": "1.5.0",
            "box_style": "",
            "layout": "IPY_MODEL_45102e006a4749dc9eff1a5fc2e86d36",
            "_model_module": "@jupyter-widgets/controls",
            "children": [
              "IPY_MODEL_9627b5b13af542cb96b53e3025e710cd",
              "IPY_MODEL_2953c7bd90964da08a202f8703c0eaeb"
            ]
          }
        },
        "1e847638ea544c7db6177ca86e87f856": {
          "model_module": "@jupyter-widgets/controls",
          "model_name": "HBoxModel",
          "state": {
            "_view_name": "HBoxView",
            "_dom_classes": [],
            "_model_name": "HBoxModel",
            "_view_module": "@jupyter-widgets/controls",
            "_model_module_version": "1.5.0",
            "_view_count": null,
            "_view_module_version": "1.5.0",
            "box_style": "",
            "layout": "IPY_MODEL_7de8981647f04558a5825cf95d3368f7",
            "_model_module": "@jupyter-widgets/controls",
            "children": [
              "IPY_MODEL_9aee97e20b8e485398464b8eb30b8dd8",
              "IPY_MODEL_4cf016a9d6ba46be8dcbfd5d817d40a7"
            ]
          }
        },
        "a06e3c2df5b64e3ebbbcefe13b18848e": {
          "model_module": "@jupyter-widgets/controls",
          "model_name": "HBoxModel",
          "state": {
            "_view_name": "HBoxView",
            "_dom_classes": [],
            "_model_name": "HBoxModel",
            "_view_module": "@jupyter-widgets/controls",
            "_model_module_version": "1.5.0",
            "_view_count": null,
            "_view_module_version": "1.5.0",
            "box_style": "",
            "layout": "IPY_MODEL_80e0be2516bd46eb977259ffc5f0a07a",
            "_model_module": "@jupyter-widgets/controls",
            "children": [
              "IPY_MODEL_b8991ac27a19484fad2882a09386a62d",
              "IPY_MODEL_b872b561291442c3a420485aa84e9294"
            ]
          }
        },
        "1a7dd81de5124ffaa64af03ed4dd6a7d": {
          "model_module": "@jupyter-widgets/controls",
          "model_name": "HBoxModel",
          "state": {
            "_view_name": "HBoxView",
            "_dom_classes": [],
            "_model_name": "HBoxModel",
            "_view_module": "@jupyter-widgets/controls",
            "_model_module_version": "1.5.0",
            "_view_count": null,
            "_view_module_version": "1.5.0",
            "box_style": "",
            "layout": "IPY_MODEL_35147247c31a41f18861a4c9038e3ee3",
            "_model_module": "@jupyter-widgets/controls",
            "children": [
              "IPY_MODEL_e0b6aacc19fb45ac98cfe086e39c6091",
              "IPY_MODEL_14fe9a23e17f42ebbc898185b19623b2"
            ]
          }
        },
        "0df15b2af8f44ceda555f41fe741d483": {
          "model_module": "@jupyter-widgets/controls",
          "model_name": "HBoxModel",
          "state": {
            "_view_name": "HBoxView",
            "_dom_classes": [],
            "_model_name": "HBoxModel",
            "_view_module": "@jupyter-widgets/controls",
            "_model_module_version": "1.5.0",
            "_view_count": null,
            "_view_module_version": "1.5.0",
            "box_style": "",
            "layout": "IPY_MODEL_1d82f163c1e84045a66f3b927901cd6e",
            "_model_module": "@jupyter-widgets/controls",
            "children": [
              "IPY_MODEL_1f33ad344a7043d8bda6b5e37a9fddd4",
              "IPY_MODEL_06ec2668161a498593238f9ff6087981"
            ]
          }
        },
        "65e58a415ad74d2c97eff7cd674d97e1": {
          "model_module": "@jupyter-widgets/controls",
          "model_name": "HBoxModel",
          "state": {
            "_view_name": "HBoxView",
            "_dom_classes": [],
            "_model_name": "HBoxModel",
            "_view_module": "@jupyter-widgets/controls",
            "_model_module_version": "1.5.0",
            "_view_count": null,
            "_view_module_version": "1.5.0",
            "box_style": "",
            "layout": "IPY_MODEL_fa50a1a578594a769bfbc89ab8840f1e",
            "_model_module": "@jupyter-widgets/controls",
            "children": [
              "IPY_MODEL_7d0eedb21b1743e9b1635a12c5fe4afd",
              "IPY_MODEL_e1fea8c73cda4cd28f3f1245031e2f7d"
            ]
          }
        },
        "fab450f3b002480e8fecd2628527be51": {
          "model_module": "@jupyter-widgets/controls",
          "model_name": "HBoxModel",
          "state": {
            "_view_name": "HBoxView",
            "_dom_classes": [],
            "_model_name": "HBoxModel",
            "_view_module": "@jupyter-widgets/controls",
            "_model_module_version": "1.5.0",
            "_view_count": null,
            "_view_module_version": "1.5.0",
            "box_style": "",
            "layout": "IPY_MODEL_ff5f35f7b0b74058a0ae4db1b4ba1464",
            "_model_module": "@jupyter-widgets/controls",
            "children": [
              "IPY_MODEL_d30c7074855c4182b14932079282ee81",
              "IPY_MODEL_10a43c8f01494db185fcae879c5d4132"
            ]
          }
        },
        "285c76417cd8410695c3cd806e8352d4": {
          "model_module": "@jupyter-widgets/controls",
          "model_name": "HBoxModel",
          "state": {
            "_view_name": "HBoxView",
            "_dom_classes": [],
            "_model_name": "HBoxModel",
            "_view_module": "@jupyter-widgets/controls",
            "_model_module_version": "1.5.0",
            "_view_count": null,
            "_view_module_version": "1.5.0",
            "box_style": "",
            "layout": "IPY_MODEL_45523f35d0594bd88ed4ecaa94ee24ce",
            "_model_module": "@jupyter-widgets/controls",
            "children": [
              "IPY_MODEL_f580808ee43647dc801773d8f125db37",
              "IPY_MODEL_3ff7dc55914649ad95182f5106b3e828"
            ]
          }
        },
        "4485df91e2dc48eaa647e03c6e0628b8": {
          "model_module": "@jupyter-widgets/controls",
          "model_name": "HBoxModel",
          "state": {
            "_view_name": "HBoxView",
            "_dom_classes": [],
            "_model_name": "HBoxModel",
            "_view_module": "@jupyter-widgets/controls",
            "_model_module_version": "1.5.0",
            "_view_count": null,
            "_view_module_version": "1.5.0",
            "box_style": "",
            "layout": "IPY_MODEL_24afd13160184ab8bfbb89a5efba0618",
            "_model_module": "@jupyter-widgets/controls",
            "children": [
              "IPY_MODEL_70bbc8a8d6e64807a958a6c464b38def",
              "IPY_MODEL_c22f50d16f6c40198d6682b5ceae8c31"
            ]
          }
        },
        "a47ae6fdcb4940d5b9812dcde0e7bc0d": {
          "model_module": "@jupyter-widgets/controls",
          "model_name": "HBoxModel",
          "state": {
            "_view_name": "HBoxView",
            "_dom_classes": [],
            "_model_name": "HBoxModel",
            "_view_module": "@jupyter-widgets/controls",
            "_model_module_version": "1.5.0",
            "_view_count": null,
            "_view_module_version": "1.5.0",
            "box_style": "",
            "layout": "IPY_MODEL_ed8801370a044ca09480f17d3bdf18d0",
            "_model_module": "@jupyter-widgets/controls",
            "children": [
              "IPY_MODEL_b65fa94b335743babd913227a91803a3",
              "IPY_MODEL_309f1946368b4d2387caa5a89b4ed618"
            ]
          }
        },
        "6f4169c5d7d040e680cd3b967df33e31": {
          "model_module": "@jupyter-widgets/controls",
          "model_name": "HBoxModel",
          "state": {
            "_view_name": "HBoxView",
            "_dom_classes": [],
            "_model_name": "HBoxModel",
            "_view_module": "@jupyter-widgets/controls",
            "_model_module_version": "1.5.0",
            "_view_count": null,
            "_view_module_version": "1.5.0",
            "box_style": "",
            "layout": "IPY_MODEL_9b9d7a86c2df40ba9cd0aa187c02ca99",
            "_model_module": "@jupyter-widgets/controls",
            "children": [
              "IPY_MODEL_81c6d3dee6bb4b13babd6420e5659aaf",
              "IPY_MODEL_dba097f8dca34506ac05bd20b24a5d2b"
            ]
          }
        },
        "15a080bca4094de8957d1b68d78ff2e6": {
          "model_module": "@jupyter-widgets/controls",
          "model_name": "HBoxModel",
          "state": {
            "_view_name": "HBoxView",
            "_dom_classes": [],
            "_model_name": "HBoxModel",
            "_view_module": "@jupyter-widgets/controls",
            "_model_module_version": "1.5.0",
            "_view_count": null,
            "_view_module_version": "1.5.0",
            "box_style": "",
            "layout": "IPY_MODEL_50ede27ac95c4a1f8b769049a0d94159",
            "_model_module": "@jupyter-widgets/controls",
            "children": [
              "IPY_MODEL_7dfa11a5bc464d9da916c265edceca26",
              "IPY_MODEL_40e9f5a343784164b0d1aab3a788f066"
            ]
          }
        },
        "956c669150b14f058e157ab26c83689b": {
          "model_module": "@jupyter-widgets/controls",
          "model_name": "HBoxModel",
          "state": {
            "_view_name": "HBoxView",
            "_dom_classes": [],
            "_model_name": "HBoxModel",
            "_view_module": "@jupyter-widgets/controls",
            "_model_module_version": "1.5.0",
            "_view_count": null,
            "_view_module_version": "1.5.0",
            "box_style": "",
            "layout": "IPY_MODEL_3da30a9a69464dfd9c0ce1bca9e9afd9",
            "_model_module": "@jupyter-widgets/controls",
            "children": [
              "IPY_MODEL_ed8988eced4f4d4d97d86ff57de276db",
              "IPY_MODEL_835ed4e3cf2644e2bb389329913893e8"
            ]
          }
        },
        "fd1789a3ea22406a903030fa1374e0bc": {
          "model_module": "@jupyter-widgets/controls",
          "model_name": "HBoxModel",
          "state": {
            "_view_name": "HBoxView",
            "_dom_classes": [],
            "_model_name": "HBoxModel",
            "_view_module": "@jupyter-widgets/controls",
            "_model_module_version": "1.5.0",
            "_view_count": null,
            "_view_module_version": "1.5.0",
            "box_style": "",
            "layout": "IPY_MODEL_9bc06ce853324fa2983806bc7830638c",
            "_model_module": "@jupyter-widgets/controls",
            "children": [
              "IPY_MODEL_c9fcc01de2cc44218cf0848655ac9297",
              "IPY_MODEL_5d54d3b1ad704e5cbdae8ecf15e43470"
            ]
          }
        },
        "031822a023f44b69b1c2925126221222": {
          "model_module": "@jupyter-widgets/controls",
          "model_name": "HBoxModel",
          "state": {
            "_view_name": "HBoxView",
            "_dom_classes": [],
            "_model_name": "HBoxModel",
            "_view_module": "@jupyter-widgets/controls",
            "_model_module_version": "1.5.0",
            "_view_count": null,
            "_view_module_version": "1.5.0",
            "box_style": "",
            "layout": "IPY_MODEL_c1f05368aacf47f28fdd907b5c45e922",
            "_model_module": "@jupyter-widgets/controls",
            "children": [
              "IPY_MODEL_102645148a5f420bb67abd9639d09864",
              "IPY_MODEL_c7494a0ec3824bc6806be00773df34ea"
            ]
          }
        },
        "2890e0f631514a1482b82be2dcfff088": {
          "model_module": "@jupyter-widgets/controls",
          "model_name": "HBoxModel",
          "state": {
            "_view_name": "HBoxView",
            "_dom_classes": [],
            "_model_name": "HBoxModel",
            "_view_module": "@jupyter-widgets/controls",
            "_model_module_version": "1.5.0",
            "_view_count": null,
            "_view_module_version": "1.5.0",
            "box_style": "",
            "layout": "IPY_MODEL_cf42d13221444c02b55f4f18d3f08a09",
            "_model_module": "@jupyter-widgets/controls",
            "children": [
              "IPY_MODEL_33aa4a24acdd49ca90daeddf580ef24d",
              "IPY_MODEL_b460d0a72210477db7be91e7f77b6ab6"
            ]
          }
        },
        "99dde7e66af54edf9fd3fe3ae92eb35c": {
          "model_module": "@jupyter-widgets/controls",
          "model_name": "HBoxModel",
          "state": {
            "_view_name": "HBoxView",
            "_dom_classes": [],
            "_model_name": "HBoxModel",
            "_view_module": "@jupyter-widgets/controls",
            "_model_module_version": "1.5.0",
            "_view_count": null,
            "_view_module_version": "1.5.0",
            "box_style": "",
            "layout": "IPY_MODEL_76d8aa01deb74e6eab34afed4082cd10",
            "_model_module": "@jupyter-widgets/controls",
            "children": [
              "IPY_MODEL_db08e5b4c161411da81c9a500020e7b2",
              "IPY_MODEL_3cf16fa9dfc94190bc5a2768cc73ae8b"
            ]
          }
        },
        "5fa98766c5624e7a9740f60701ca9681": {
          "model_module": "@jupyter-widgets/controls",
          "model_name": "HBoxModel",
          "state": {
            "_view_name": "HBoxView",
            "_dom_classes": [],
            "_model_name": "HBoxModel",
            "_view_module": "@jupyter-widgets/controls",
            "_model_module_version": "1.5.0",
            "_view_count": null,
            "_view_module_version": "1.5.0",
            "box_style": "",
            "layout": "IPY_MODEL_729cc7d734c349ce880391d868a423f0",
            "_model_module": "@jupyter-widgets/controls",
            "children": [
              "IPY_MODEL_5934eedfe3914ac2b2276cb2cd7b9ba1",
              "IPY_MODEL_2cdd93e278dd481082c31168801f0b96"
            ]
          }
        },
        "ae22ebfd4cfb41b69f32d1da4d2a7c1a": {
          "model_module": "@jupyter-widgets/controls",
          "model_name": "HBoxModel",
          "state": {
            "_view_name": "HBoxView",
            "_dom_classes": [],
            "_model_name": "HBoxModel",
            "_view_module": "@jupyter-widgets/controls",
            "_model_module_version": "1.5.0",
            "_view_count": null,
            "_view_module_version": "1.5.0",
            "box_style": "",
            "layout": "IPY_MODEL_968309ce4aac4a779e4982e56daed27e",
            "_model_module": "@jupyter-widgets/controls",
            "children": [
              "IPY_MODEL_1d3f979759164426b26990b390fc6d65",
              "IPY_MODEL_7a368f52cbb24b8489eeae76218cd9c1"
            ]
          }
        },
        "3eadf9bd72f4425aa76d75d3bd29e5ee": {
          "model_module": "@jupyter-widgets/controls",
          "model_name": "HBoxModel",
          "state": {
            "_view_name": "HBoxView",
            "_dom_classes": [],
            "_model_name": "HBoxModel",
            "_view_module": "@jupyter-widgets/controls",
            "_model_module_version": "1.5.0",
            "_view_count": null,
            "_view_module_version": "1.5.0",
            "box_style": "",
            "layout": "IPY_MODEL_047c46dc700e4a43a30090d87c66dc6e",
            "_model_module": "@jupyter-widgets/controls",
            "children": [
              "IPY_MODEL_ddefa5b110734f27a38458ad54683ec3",
              "IPY_MODEL_93d3aeec0bd4469f95e813d376c5842d"
            ]
          }
        },
        "a1544eef884f44deb6ad2157680990ce": {
          "model_module": "@jupyter-widgets/controls",
          "model_name": "HBoxModel",
          "state": {
            "_view_name": "HBoxView",
            "_dom_classes": [],
            "_model_name": "HBoxModel",
            "_view_module": "@jupyter-widgets/controls",
            "_model_module_version": "1.5.0",
            "_view_count": null,
            "_view_module_version": "1.5.0",
            "box_style": "",
            "layout": "IPY_MODEL_d683c28426a847e4b6cf650faa7c02a9",
            "_model_module": "@jupyter-widgets/controls",
            "children": [
              "IPY_MODEL_a8e63002ac8f41ee95fdaad1c9059d9e",
              "IPY_MODEL_6d8257f677564472932e5a99d4230181"
            ]
          }
        },
        "81ef7f99315e4f9dab7779ced1bdb369": {
          "model_module": "@jupyter-widgets/controls",
          "model_name": "HBoxModel",
          "state": {
            "_view_name": "HBoxView",
            "_dom_classes": [],
            "_model_name": "HBoxModel",
            "_view_module": "@jupyter-widgets/controls",
            "_model_module_version": "1.5.0",
            "_view_count": null,
            "_view_module_version": "1.5.0",
            "box_style": "",
            "layout": "IPY_MODEL_ae5bbe61077b4c87808f8d21cbd6786e",
            "_model_module": "@jupyter-widgets/controls",
            "children": [
              "IPY_MODEL_d66da7ed83104c2fb8708ba92b6d4e42",
              "IPY_MODEL_c9bc4035790f42e2aa7dfa6543f6e031"
            ]
          }
        },
        "1c3d5657a51f41279d19d3f33661567d": {
          "model_module": "@jupyter-widgets/controls",
          "model_name": "HBoxModel",
          "state": {
            "_view_name": "HBoxView",
            "_dom_classes": [],
            "_model_name": "HBoxModel",
            "_view_module": "@jupyter-widgets/controls",
            "_model_module_version": "1.5.0",
            "_view_count": null,
            "_view_module_version": "1.5.0",
            "box_style": "",
            "layout": "IPY_MODEL_dbc7de3d56f240e7849449b04e09f497",
            "_model_module": "@jupyter-widgets/controls",
            "children": [
              "IPY_MODEL_e85cfcd899f544ed9cd4f0921d87dab1",
              "IPY_MODEL_352c69281abb49b2a36093463157edce"
            ]
          }
        },
        "90d6f1cdd8b84343aaacfae90c8ab378": {
          "model_module": "@jupyter-widgets/controls",
          "model_name": "HBoxModel",
          "state": {
            "_view_name": "HBoxView",
            "_dom_classes": [],
            "_model_name": "HBoxModel",
            "_view_module": "@jupyter-widgets/controls",
            "_model_module_version": "1.5.0",
            "_view_count": null,
            "_view_module_version": "1.5.0",
            "box_style": "",
            "layout": "IPY_MODEL_9ed85eba72a24a23992d69cdd802ce5e",
            "_model_module": "@jupyter-widgets/controls",
            "children": [
              "IPY_MODEL_61974c8e063b4686a1e132e6694d4ac1",
              "IPY_MODEL_2596246012e246f5b40bcd2bae42ed68"
            ]
          }
        },
        "26ecc9424b89457181f0a3dc6440c45b": {
          "model_module": "@jupyter-widgets/controls",
          "model_name": "HBoxModel",
          "state": {
            "_view_name": "HBoxView",
            "_dom_classes": [],
            "_model_name": "HBoxModel",
            "_view_module": "@jupyter-widgets/controls",
            "_model_module_version": "1.5.0",
            "_view_count": null,
            "_view_module_version": "1.5.0",
            "box_style": "",
            "layout": "IPY_MODEL_a41c746a85f645b8b8aa6a6d3d641584",
            "_model_module": "@jupyter-widgets/controls",
            "children": [
              "IPY_MODEL_b89f3457fd974843a568db5239baf897",
              "IPY_MODEL_6fa757fb65dc4262945cc1dc3bea7df1"
            ]
          }
        },
        "67208e388c6142d298c3b2b10325aed5": {
          "model_module": "@jupyter-widgets/controls",
          "model_name": "HBoxModel",
          "state": {
            "_view_name": "HBoxView",
            "_dom_classes": [],
            "_model_name": "HBoxModel",
            "_view_module": "@jupyter-widgets/controls",
            "_model_module_version": "1.5.0",
            "_view_count": null,
            "_view_module_version": "1.5.0",
            "box_style": "",
            "layout": "IPY_MODEL_043fd5eee0e04dc2b33e1b48dd153b25",
            "_model_module": "@jupyter-widgets/controls",
            "children": [
              "IPY_MODEL_f9dbf52b238f4a9daa2e63545a9070dc",
              "IPY_MODEL_ad2fae749f884bbb8b58cb117426810f"
            ]
          }
        },
        "c13a1ff3d56d41de8fc1c52d07326171": {
          "model_module": "@jupyter-widgets/controls",
          "model_name": "HBoxModel",
          "state": {
            "_view_name": "HBoxView",
            "_dom_classes": [],
            "_model_name": "HBoxModel",
            "_view_module": "@jupyter-widgets/controls",
            "_model_module_version": "1.5.0",
            "_view_count": null,
            "_view_module_version": "1.5.0",
            "box_style": "",
            "layout": "IPY_MODEL_92838dfee9af4f2b9bb11742360d5d5a",
            "_model_module": "@jupyter-widgets/controls",
            "children": [
              "IPY_MODEL_dec4dadd12884e79a05db1cd5b4920ee",
              "IPY_MODEL_31959a2e6db441ad80459b0fbaaa49b1"
            ]
          }
        },
        "74a512b1e87844b08787a9545b382522": {
          "model_module": "@jupyter-widgets/controls",
          "model_name": "HBoxModel",
          "state": {
            "_view_name": "HBoxView",
            "_dom_classes": [],
            "_model_name": "HBoxModel",
            "_view_module": "@jupyter-widgets/controls",
            "_model_module_version": "1.5.0",
            "_view_count": null,
            "_view_module_version": "1.5.0",
            "box_style": "",
            "layout": "IPY_MODEL_dca67fe9fcbf47d7be28b70ddb363595",
            "_model_module": "@jupyter-widgets/controls",
            "children": [
              "IPY_MODEL_a51ef59efd674768a422a395fdac7f8e",
              "IPY_MODEL_9aafdb5a772e4bef8eef1e14615f729f"
            ]
          }
        },
        "9c9898296b704a189bc7deddbe1b1945": {
          "model_module": "@jupyter-widgets/controls",
          "model_name": "HBoxModel",
          "state": {
            "_view_name": "HBoxView",
            "_dom_classes": [],
            "_model_name": "HBoxModel",
            "_view_module": "@jupyter-widgets/controls",
            "_model_module_version": "1.5.0",
            "_view_count": null,
            "_view_module_version": "1.5.0",
            "box_style": "",
            "layout": "IPY_MODEL_589f884f1b934084b94e7be726db0dcd",
            "_model_module": "@jupyter-widgets/controls",
            "children": [
              "IPY_MODEL_c54e4dd514aa4493a6a1523921745a6f",
              "IPY_MODEL_24b63f771f82443982bd5eb5fd949552"
            ]
          }
        },
        "ac6eb79f7c7646e1935832e3de926805": {
          "model_module": "@jupyter-widgets/controls",
          "model_name": "HBoxModel",
          "state": {
            "_view_name": "HBoxView",
            "_dom_classes": [],
            "_model_name": "HBoxModel",
            "_view_module": "@jupyter-widgets/controls",
            "_model_module_version": "1.5.0",
            "_view_count": null,
            "_view_module_version": "1.5.0",
            "box_style": "",
            "layout": "IPY_MODEL_6f4c7f328f894126a54eeb758de77826",
            "_model_module": "@jupyter-widgets/controls",
            "children": [
              "IPY_MODEL_9885348f2b914576becac22c5b8de4e7",
              "IPY_MODEL_44b97c38c62f402d851632cbbc81d969"
            ]
          }
        },
        "7e3a6c187e62456c8ab2702a6524af67": {
          "model_module": "@jupyter-widgets/controls",
          "model_name": "HBoxModel",
          "state": {
            "_view_name": "HBoxView",
            "_dom_classes": [],
            "_model_name": "HBoxModel",
            "_view_module": "@jupyter-widgets/controls",
            "_model_module_version": "1.5.0",
            "_view_count": null,
            "_view_module_version": "1.5.0",
            "box_style": "",
            "layout": "IPY_MODEL_af7b912918ef49af88e1e6029ec21e72",
            "_model_module": "@jupyter-widgets/controls",
            "children": [
              "IPY_MODEL_1b449b91a01c40a286a195e84862a580",
              "IPY_MODEL_8127eb01d25d40968a902dd68bdb328e"
            ]
          }
        },
        "c536a43819194e659abb4f87f87f55e5": {
          "model_module": "@jupyter-widgets/controls",
          "model_name": "HBoxModel",
          "state": {
            "_view_name": "HBoxView",
            "_dom_classes": [],
            "_model_name": "HBoxModel",
            "_view_module": "@jupyter-widgets/controls",
            "_model_module_version": "1.5.0",
            "_view_count": null,
            "_view_module_version": "1.5.0",
            "box_style": "",
            "layout": "IPY_MODEL_576404aa38374a43bdbf03005ddaa2da",
            "_model_module": "@jupyter-widgets/controls",
            "children": [
              "IPY_MODEL_d49abdb926e0444cb0b5aceddfc47b94",
              "IPY_MODEL_feb54244fd24404ab6364fb1df615515"
            ]
          }
        },
        "bf67c028abec448d847f6d21e9fc4f67": {
          "model_module": "@jupyter-widgets/controls",
          "model_name": "HBoxModel",
          "state": {
            "_view_name": "HBoxView",
            "_dom_classes": [],
            "_model_name": "HBoxModel",
            "_view_module": "@jupyter-widgets/controls",
            "_model_module_version": "1.5.0",
            "_view_count": null,
            "_view_module_version": "1.5.0",
            "box_style": "",
            "layout": "IPY_MODEL_511fcc06c2c04ab78cd7fac1111d30d0",
            "_model_module": "@jupyter-widgets/controls",
            "children": [
              "IPY_MODEL_c844533f772c4decafdd86dd5a00ee15",
              "IPY_MODEL_aa9cedceb06d49a0a7b7f2e14b150d02"
            ]
          }
        },
        "0f40c8845eda4ba4814c62ca9862bcc9": {
          "model_module": "@jupyter-widgets/controls",
          "model_name": "HBoxModel",
          "state": {
            "_view_name": "HBoxView",
            "_dom_classes": [],
            "_model_name": "HBoxModel",
            "_view_module": "@jupyter-widgets/controls",
            "_model_module_version": "1.5.0",
            "_view_count": null,
            "_view_module_version": "1.5.0",
            "box_style": "",
            "layout": "IPY_MODEL_228c9e7837104e608a1e37181adfd6a5",
            "_model_module": "@jupyter-widgets/controls",
            "children": [
              "IPY_MODEL_8e09205a2d4f47928e803287a8c6184b",
              "IPY_MODEL_ca10ff73e7b349f8b8a098128c72eb5e"
            ]
          }
        },
        "9b35d9ecb97c4d10b50d2eeeb682d2ba": {
          "model_module": "@jupyter-widgets/controls",
          "model_name": "HBoxModel",
          "state": {
            "_view_name": "HBoxView",
            "_dom_classes": [],
            "_model_name": "HBoxModel",
            "_view_module": "@jupyter-widgets/controls",
            "_model_module_version": "1.5.0",
            "_view_count": null,
            "_view_module_version": "1.5.0",
            "box_style": "",
            "layout": "IPY_MODEL_51c5697d2b45405daa33303f238d754f",
            "_model_module": "@jupyter-widgets/controls",
            "children": [
              "IPY_MODEL_0ae48e59771b4200a3ead7763b4a9778",
              "IPY_MODEL_e7c59ae5cef94e84b4763b50fd1ef260"
            ]
          }
        },
        "5592b1c697464cb4a04a9f12f36120d7": {
          "model_module": "@jupyter-widgets/controls",
          "model_name": "HBoxModel",
          "state": {
            "_view_name": "HBoxView",
            "_dom_classes": [],
            "_model_name": "HBoxModel",
            "_view_module": "@jupyter-widgets/controls",
            "_model_module_version": "1.5.0",
            "_view_count": null,
            "_view_module_version": "1.5.0",
            "box_style": "",
            "layout": "IPY_MODEL_5fd8a3fbabcf4da3b709772f8b8f7708",
            "_model_module": "@jupyter-widgets/controls",
            "children": [
              "IPY_MODEL_f2a5e573328b41de8032e00bd36f8124",
              "IPY_MODEL_651329195cc44f60b4397773a46892f0"
            ]
          }
        },
        "16da8d69fabb4c2e9d2779527ab77b93": {
          "model_module": "@jupyter-widgets/controls",
          "model_name": "HBoxModel",
          "state": {
            "_view_name": "HBoxView",
            "_dom_classes": [],
            "_model_name": "HBoxModel",
            "_view_module": "@jupyter-widgets/controls",
            "_model_module_version": "1.5.0",
            "_view_count": null,
            "_view_module_version": "1.5.0",
            "box_style": "",
            "layout": "IPY_MODEL_d277006a1543452f8845d8b136838ad1",
            "_model_module": "@jupyter-widgets/controls",
            "children": [
              "IPY_MODEL_9d1463bf47574e969389c07d0d0cdec6",
              "IPY_MODEL_dbef9c3dce484209bbbffff2b314a8ce"
            ]
          }
        },
        "94322f22407543849736cd6182b02635": {
          "model_module": "@jupyter-widgets/controls",
          "model_name": "HBoxModel",
          "state": {
            "_view_name": "HBoxView",
            "_dom_classes": [],
            "_model_name": "HBoxModel",
            "_view_module": "@jupyter-widgets/controls",
            "_model_module_version": "1.5.0",
            "_view_count": null,
            "_view_module_version": "1.5.0",
            "box_style": "",
            "layout": "IPY_MODEL_abdc984d4a6a4728bb0741476f68116a",
            "_model_module": "@jupyter-widgets/controls",
            "children": [
              "IPY_MODEL_13358cf83a0043bdb67f20c1ee2780e9",
              "IPY_MODEL_b4e7dec23e0444dba44bd9ff2d0cdf05"
            ]
          }
        },
        "f9808df036a74e1e80e9310f6ac93e93": {
          "model_module": "@jupyter-widgets/controls",
          "model_name": "HBoxModel",
          "state": {
            "_view_name": "HBoxView",
            "_dom_classes": [],
            "_model_name": "HBoxModel",
            "_view_module": "@jupyter-widgets/controls",
            "_model_module_version": "1.5.0",
            "_view_count": null,
            "_view_module_version": "1.5.0",
            "box_style": "",
            "layout": "IPY_MODEL_b8e51a075795479ca432699b864541ae",
            "_model_module": "@jupyter-widgets/controls",
            "children": [
              "IPY_MODEL_70cc19f077ce4785893b084b28212d2b",
              "IPY_MODEL_67f25c80fcf640bea9c9ef3ee7621f29"
            ]
          }
        },
        "46db42e68aaf4f9fb561803c267ac213": {
          "model_module": "@jupyter-widgets/controls",
          "model_name": "HBoxModel",
          "state": {
            "_view_name": "HBoxView",
            "_dom_classes": [],
            "_model_name": "HBoxModel",
            "_view_module": "@jupyter-widgets/controls",
            "_model_module_version": "1.5.0",
            "_view_count": null,
            "_view_module_version": "1.5.0",
            "box_style": "",
            "layout": "IPY_MODEL_3039184c8c5348a1bcf46a8a3b4e01ea",
            "_model_module": "@jupyter-widgets/controls",
            "children": [
              "IPY_MODEL_3c7fb206430e4b74ad35e2008e0c4cf7",
              "IPY_MODEL_15fde077cbbf4f9a9b8560dcc7242b1f"
            ]
          }
        },
        "c7f03c6783664176a01d0ec6f18088bd": {
          "model_module": "@jupyter-widgets/controls",
          "model_name": "HBoxModel",
          "state": {
            "_view_name": "HBoxView",
            "_dom_classes": [],
            "_model_name": "HBoxModel",
            "_view_module": "@jupyter-widgets/controls",
            "_model_module_version": "1.5.0",
            "_view_count": null,
            "_view_module_version": "1.5.0",
            "box_style": "",
            "layout": "IPY_MODEL_d93b845c7abc430686283cfb8d977128",
            "_model_module": "@jupyter-widgets/controls",
            "children": [
              "IPY_MODEL_626c1edb3069475eb30532cde79ca40d",
              "IPY_MODEL_0cd24e81bcbd44c4a81e35a5001af504"
            ]
          }
        },
        "9080db872bd7490dbcd99fcd3ce8a76a": {
          "model_module": "@jupyter-widgets/controls",
          "model_name": "HBoxModel",
          "state": {
            "_view_name": "HBoxView",
            "_dom_classes": [],
            "_model_name": "HBoxModel",
            "_view_module": "@jupyter-widgets/controls",
            "_model_module_version": "1.5.0",
            "_view_count": null,
            "_view_module_version": "1.5.0",
            "box_style": "",
            "layout": "IPY_MODEL_1b912c6c588d4370a61bb43a29bd4ded",
            "_model_module": "@jupyter-widgets/controls",
            "children": [
              "IPY_MODEL_56c5a72b7f4b4fcda07fb59284cde3ee",
              "IPY_MODEL_afc71aa467ac4156a72b0c4e6792b537"
            ]
          }
        },
        "f60dc53f8fce4f8697f33690aead0c06": {
          "model_module": "@jupyter-widgets/controls",
          "model_name": "HBoxModel",
          "state": {
            "_view_name": "HBoxView",
            "_dom_classes": [],
            "_model_name": "HBoxModel",
            "_view_module": "@jupyter-widgets/controls",
            "_model_module_version": "1.5.0",
            "_view_count": null,
            "_view_module_version": "1.5.0",
            "box_style": "",
            "layout": "IPY_MODEL_19f1d4097e2f4a88854eb03e748c4c7a",
            "_model_module": "@jupyter-widgets/controls",
            "children": [
              "IPY_MODEL_b461873e06d947f9b1106cf8e62ed3e4",
              "IPY_MODEL_a46637815c8944ac87e12f28771b1b6b"
            ]
          }
        },
        "4c2a1084444a4b85ba39ba4020eb67a4": {
          "model_module": "@jupyter-widgets/controls",
          "model_name": "HBoxModel",
          "state": {
            "_view_name": "HBoxView",
            "_dom_classes": [],
            "_model_name": "HBoxModel",
            "_view_module": "@jupyter-widgets/controls",
            "_model_module_version": "1.5.0",
            "_view_count": null,
            "_view_module_version": "1.5.0",
            "box_style": "",
            "layout": "IPY_MODEL_2c729c6f3e0a4ed6923ab3893a41ae3c",
            "_model_module": "@jupyter-widgets/controls",
            "children": [
              "IPY_MODEL_c378d8fd62654b81af24d41a8ee90a4c",
              "IPY_MODEL_17285537690b4e669a9f0775032ed0a6"
            ]
          }
        },
        "d7dd2bd6173a4541942c338e0a69dc24": {
          "model_module": "@jupyter-widgets/controls",
          "model_name": "HBoxModel",
          "state": {
            "_view_name": "HBoxView",
            "_dom_classes": [],
            "_model_name": "HBoxModel",
            "_view_module": "@jupyter-widgets/controls",
            "_model_module_version": "1.5.0",
            "_view_count": null,
            "_view_module_version": "1.5.0",
            "box_style": "",
            "layout": "IPY_MODEL_f543bc40d61d425c9a953cd63201f65c",
            "_model_module": "@jupyter-widgets/controls",
            "children": [
              "IPY_MODEL_f73be36280044a069bf6eafa8af5279c",
              "IPY_MODEL_840138381da34117998cafab9cdcffc2"
            ]
          }
        },
        "6fcd71f8307f405498bab3a4c7293805": {
          "model_module": "@jupyter-widgets/controls",
          "model_name": "HBoxModel",
          "state": {
            "_view_name": "HBoxView",
            "_dom_classes": [],
            "_model_name": "HBoxModel",
            "_view_module": "@jupyter-widgets/controls",
            "_model_module_version": "1.5.0",
            "_view_count": null,
            "_view_module_version": "1.5.0",
            "box_style": "",
            "layout": "IPY_MODEL_ece17ae1ad254f658e91a04a36734767",
            "_model_module": "@jupyter-widgets/controls",
            "children": [
              "IPY_MODEL_e651d58296ca418ca304c1562222dbef",
              "IPY_MODEL_076d422e4f634fb49123d787266a8190"
            ]
          }
        },
        "e5be2a6244244dc6a21ef0601e549aa9": {
          "model_module": "@jupyter-widgets/controls",
          "model_name": "HBoxModel",
          "state": {
            "_view_name": "HBoxView",
            "_dom_classes": [],
            "_model_name": "HBoxModel",
            "_view_module": "@jupyter-widgets/controls",
            "_model_module_version": "1.5.0",
            "_view_count": null,
            "_view_module_version": "1.5.0",
            "box_style": "",
            "layout": "IPY_MODEL_3a51499c058b414d9ecb7f21a66b3524",
            "_model_module": "@jupyter-widgets/controls",
            "children": [
              "IPY_MODEL_9d00159d3cee462ca88e234684284a96",
              "IPY_MODEL_b35927cdf3e64fa1b4df922a6f821615"
            ]
          }
        },
        "34cf185a38714c5e93e0cdfe8be94b7a": {
          "model_module": "@jupyter-widgets/controls",
          "model_name": "HBoxModel",
          "state": {
            "_view_name": "HBoxView",
            "_dom_classes": [],
            "_model_name": "HBoxModel",
            "_view_module": "@jupyter-widgets/controls",
            "_model_module_version": "1.5.0",
            "_view_count": null,
            "_view_module_version": "1.5.0",
            "box_style": "",
            "layout": "IPY_MODEL_5bb7b94760b24f0a84715cefcc8580a4",
            "_model_module": "@jupyter-widgets/controls",
            "children": [
              "IPY_MODEL_afb8927b93d144b4823c0d27c9777c4a",
              "IPY_MODEL_a7f71ddde8f0428196cc6ace44676b8c"
            ]
          }
        },
        "5c3fd498e5e74f07b28aa9cfd93efda9": {
          "model_module": "@jupyter-widgets/controls",
          "model_name": "HBoxModel",
          "state": {
            "_view_name": "HBoxView",
            "_dom_classes": [],
            "_model_name": "HBoxModel",
            "_view_module": "@jupyter-widgets/controls",
            "_model_module_version": "1.5.0",
            "_view_count": null,
            "_view_module_version": "1.5.0",
            "box_style": "",
            "layout": "IPY_MODEL_a8049d64e2af4d0e999bed83d4e21660",
            "_model_module": "@jupyter-widgets/controls",
            "children": [
              "IPY_MODEL_ce973668e0f0415cb89dd5cc515335d8",
              "IPY_MODEL_97ad0e92678c4049b198e0eb81302341"
            ]
          }
        }
      }
    }
  },
  "cells": [
    {
      "cell_type": "markdown",
      "metadata": {
        "id": "vunQDzITTxE4",
        "colab_type": "text"
      },
      "source": [
        "# Word2Vec\n",
        "\n",
        "Inspired by https://www.tensorflow.org/tutorials/text/word_embeddings."
      ]
    },
    {
      "cell_type": "code",
      "metadata": {
        "id": "XhrJzqAQTfMK",
        "colab_type": "code",
        "colab": {
          "base_uri": "https://localhost:8080/",
          "height": 34
        },
        "outputId": "3af0cddb-9a1d-41a7-a08f-506588df4a7b"
      },
      "source": [
        "%tensorflow_version 2.x"
      ],
      "execution_count": 1,
      "outputs": [
        {
          "output_type": "stream",
          "text": [
            "TensorFlow 2.x selected.\n"
          ],
          "name": "stdout"
        }
      ]
    },
    {
      "cell_type": "code",
      "metadata": {
        "id": "Zi33xbGEVHSA",
        "colab_type": "code",
        "colab": {
          "base_uri": "https://localhost:8080/",
          "height": 34
        },
        "outputId": "4c81bed0-f787-42c6-ec34-a61f8d8cf7a6"
      },
      "source": [
        "%pylab inline"
      ],
      "execution_count": 2,
      "outputs": [
        {
          "output_type": "stream",
          "text": [
            "Populating the interactive namespace from numpy and matplotlib\n"
          ],
          "name": "stdout"
        }
      ]
    },
    {
      "cell_type": "code",
      "metadata": {
        "id": "2Fj37gU8VIRf",
        "colab_type": "code",
        "colab": {}
      },
      "source": [
        "import tensorflow as tf\n",
        "import tensorflow_datasets as tfds"
      ],
      "execution_count": 0,
      "outputs": []
    },
    {
      "cell_type": "code",
      "metadata": {
        "id": "_WrLETT0VJJ4",
        "colab_type": "code",
        "colab": {
          "base_uri": "https://localhost:8080/",
          "height": 258,
          "referenced_widgets": [
            "cd6cb5deb8754144b66a54dce01b8498",
            "5874f4ee4ea94abba1a82a4ea4a588b5",
            "522c648334714972991978293006f1fc",
            "74087502aa4b4194abf07cf27074fde5",
            "f059fe60431f4be891c2da21826f44de",
            "772ca913783e4f26b8fa8fc2480fd626",
            "03c04eacde6b47119cb50a0b30a8a5ff",
            "0b6d3bd57a224078b57aed68040b688b",
            "cb6b4f25283d461e9d6c36670c56ea7c",
            "b27095a0d20647ebb507b50b51a2f5c8",
            "740ba91a923946a996a247d26eda040f",
            "9fdbc9e9b7a54a578b590d536959b7c7",
            "70232ff42cf64f218995aacf060b7d5c",
            "df12a354a3ee4a73a4ac11c91478dd69",
            "3267043f9b8b4ef5bc05b4824fe38939",
            "43cf6a48039f43a2939ff5d4e9fa8e43",
            "dce1679bc32b406fb3b38939ab22f9a7",
            "b33575808ac7425096ce6827c4647872",
            "bb58e35703f641959bec3d4edcdc03c9",
            "54d70664ab54499fb63a3619852a462c",
            "d9c4de5ccd1947f596d3fa56f254e6a9",
            "e9c26ecf032648d494ff8868f9247620",
            "dc8d3be764024b9cb1a66fa9ce85ebbf",
            "b74b5766616a41b9b1d8588fb099b1b6",
            "064a436c09894ca6a84a1ff36422ddf0",
            "a0dd59592f1f49c6816a8783bd7e534b",
            "d2d08f3e724048a1b2285796e1f05bfd",
            "20f3c420939b4785bc6faae50bcbb069",
            "cfa5ab6b706547e4a64ed5b468d6ab2a",
            "01b12a9813554d44a441b0da9d37a0ce",
            "e4aed87a4bdf413bacbf90c047d39889",
            "edd32d0e5c7a4478bc98d32303d141d7",
            "ebe031ffe1c34e6cb14d3aa070d46369",
            "bc02e9c9171a4717bfbfe21d74508fa9",
            "a715f803526648b29c2df4f11b249041",
            "16592afa2fee4936a1aa8c76595f5a7b",
            "2e563f0e6c474f14941bce177f9db7ef",
            "221ab2f27cd7401694c4e31eb26e2c62",
            "536a0309bcad444ab3bacd8a71c321a3",
            "44a1652334d449bfa71eb258bc914e42",
            "1e847638ea544c7db6177ca86e87f856",
            "a06e3c2df5b64e3ebbbcefe13b18848e",
            "1a7dd81de5124ffaa64af03ed4dd6a7d",
            "0df15b2af8f44ceda555f41fe741d483",
            "65e58a415ad74d2c97eff7cd674d97e1",
            "fab450f3b002480e8fecd2628527be51",
            "285c76417cd8410695c3cd806e8352d4",
            "4485df91e2dc48eaa647e03c6e0628b8",
            "a47ae6fdcb4940d5b9812dcde0e7bc0d",
            "6f4169c5d7d040e680cd3b967df33e31",
            "15a080bca4094de8957d1b68d78ff2e6",
            "956c669150b14f058e157ab26c83689b",
            "fd1789a3ea22406a903030fa1374e0bc",
            "031822a023f44b69b1c2925126221222",
            "2890e0f631514a1482b82be2dcfff088",
            "99dde7e66af54edf9fd3fe3ae92eb35c",
            "5fa98766c5624e7a9740f60701ca9681",
            "ae22ebfd4cfb41b69f32d1da4d2a7c1a",
            "3eadf9bd72f4425aa76d75d3bd29e5ee",
            "a1544eef884f44deb6ad2157680990ce",
            "81ef7f99315e4f9dab7779ced1bdb369",
            "1c3d5657a51f41279d19d3f33661567d",
            "90d6f1cdd8b84343aaacfae90c8ab378",
            "26ecc9424b89457181f0a3dc6440c45b",
            "67208e388c6142d298c3b2b10325aed5",
            "c13a1ff3d56d41de8fc1c52d07326171",
            "74a512b1e87844b08787a9545b382522",
            "9c9898296b704a189bc7deddbe1b1945",
            "ac6eb79f7c7646e1935832e3de926805",
            "7e3a6c187e62456c8ab2702a6524af67",
            "c536a43819194e659abb4f87f87f55e5",
            "bf67c028abec448d847f6d21e9fc4f67",
            "0f40c8845eda4ba4814c62ca9862bcc9",
            "9b35d9ecb97c4d10b50d2eeeb682d2ba",
            "5592b1c697464cb4a04a9f12f36120d7",
            "16da8d69fabb4c2e9d2779527ab77b93",
            "94322f22407543849736cd6182b02635",
            "f9808df036a74e1e80e9310f6ac93e93",
            "46db42e68aaf4f9fb561803c267ac213",
            "c7f03c6783664176a01d0ec6f18088bd",
            "9080db872bd7490dbcd99fcd3ce8a76a",
            "f60dc53f8fce4f8697f33690aead0c06",
            "4c2a1084444a4b85ba39ba4020eb67a4",
            "d7dd2bd6173a4541942c338e0a69dc24",
            "6fcd71f8307f405498bab3a4c7293805",
            "e5be2a6244244dc6a21ef0601e549aa9",
            "34cf185a38714c5e93e0cdfe8be94b7a",
            "5c3fd498e5e74f07b28aa9cfd93efda9"
          ]
        },
        "outputId": "df54fe5b-3e07-4055-a3c9-42ec4fe0b31f"
      },
      "source": [
        "(train_data, test_data), info = tfds.load(\n",
        "    'imdb_reviews/subwords8k', \n",
        "    split = (tfds.Split.TRAIN, tfds.Split.TEST), \n",
        "    with_info=True, as_supervised=True)"
      ],
      "execution_count": 4,
      "outputs": [
        {
          "output_type": "stream",
          "text": [
            "\u001b[1mDownloading and preparing dataset imdb_reviews (80.23 MiB) to /root/tensorflow_datasets/imdb_reviews/subwords8k/0.1.0...\u001b[0m\n"
          ],
          "name": "stdout"
        },
        {
          "output_type": "display_data",
          "data": {
            "application/vnd.jupyter.widget-view+json": {
              "model_id": "cd6cb5deb8754144b66a54dce01b8498",
              "version_minor": 0,
              "version_major": 2
            },
            "text/plain": [
              "HBox(children=(IntProgress(value=1, bar_style='info', description='Dl Completed...', max=1, style=ProgressStyl…"
            ]
          },
          "metadata": {
            "tags": []
          }
        },
        {
          "output_type": "display_data",
          "data": {
            "application/vnd.jupyter.widget-view+json": {
              "model_id": "5874f4ee4ea94abba1a82a4ea4a588b5",
              "version_minor": 0,
              "version_major": 2
            },
            "text/plain": [
              "HBox(children=(IntProgress(value=1, bar_style='info', description='Dl Size...', max=1, style=ProgressStyle(des…"
            ]
          },
          "metadata": {
            "tags": []
          }
        },
        {
          "output_type": "stream",
          "text": [
            "\n",
            "\n",
            "\n"
          ],
          "name": "stdout"
        },
        {
          "output_type": "display_data",
          "data": {
            "application/vnd.jupyter.widget-view+json": {
              "model_id": "522c648334714972991978293006f1fc",
              "version_minor": 0,
              "version_major": 2
            },
            "text/plain": [
              "HBox(children=(IntProgress(value=1, bar_style='info', max=1), HTML(value='')))"
            ]
          },
          "metadata": {
            "tags": []
          }
        },
        {
          "output_type": "stream",
          "text": [
            "\r"
          ],
          "name": "stdout"
        },
        {
          "output_type": "display_data",
          "data": {
            "application/vnd.jupyter.widget-view+json": {
              "model_id": "74087502aa4b4194abf07cf27074fde5",
              "version_minor": 0,
              "version_major": 2
            },
            "text/plain": [
              "HBox(children=(IntProgress(value=0, description='Shuffling...', max=10, style=ProgressStyle(description_width=…"
            ]
          },
          "metadata": {
            "tags": []
          }
        },
        {
          "output_type": "stream",
          "text": [
            "WARNING:tensorflow:From /usr/local/lib/python3.6/dist-packages/tensorflow_datasets/core/file_format_adapter.py:209: tf_record_iterator (from tensorflow.python.lib.io.tf_record) is deprecated and will be removed in a future version.\n",
            "Instructions for updating:\n",
            "Use eager execution and: \n",
            "`tf.data.TFRecordDataset(path)`\n"
          ],
          "name": "stdout"
        },
        {
          "output_type": "stream",
          "text": [
            "WARNING:tensorflow:From /usr/local/lib/python3.6/dist-packages/tensorflow_datasets/core/file_format_adapter.py:209: tf_record_iterator (from tensorflow.python.lib.io.tf_record) is deprecated and will be removed in a future version.\n",
            "Instructions for updating:\n",
            "Use eager execution and: \n",
            "`tf.data.TFRecordDataset(path)`\n"
          ],
          "name": "stderr"
        },
        {
          "output_type": "display_data",
          "data": {
            "application/vnd.jupyter.widget-view+json": {
              "model_id": "f059fe60431f4be891c2da21826f44de",
              "version_minor": 0,
              "version_major": 2
            },
            "text/plain": [
              "HBox(children=(IntProgress(value=1, bar_style='info', description='Reading...', max=1, style=ProgressStyle(des…"
            ]
          },
          "metadata": {
            "tags": []
          }
        },
        {
          "output_type": "display_data",
          "data": {
            "application/vnd.jupyter.widget-view+json": {
              "model_id": "772ca913783e4f26b8fa8fc2480fd626",
              "version_minor": 0,
              "version_major": 2
            },
            "text/plain": [
              "HBox(children=(IntProgress(value=0, description='Writing...', max=2500, style=ProgressStyle(description_width=…"
            ]
          },
          "metadata": {
            "tags": []
          }
        },
        {
          "output_type": "display_data",
          "data": {
            "application/vnd.jupyter.widget-view+json": {
              "model_id": "03c04eacde6b47119cb50a0b30a8a5ff",
              "version_minor": 0,
              "version_major": 2
            },
            "text/plain": [
              "HBox(children=(IntProgress(value=1, bar_style='info', description='Reading...', max=1, style=ProgressStyle(des…"
            ]
          },
          "metadata": {
            "tags": []
          }
        },
        {
          "output_type": "display_data",
          "data": {
            "application/vnd.jupyter.widget-view+json": {
              "model_id": "0b6d3bd57a224078b57aed68040b688b",
              "version_minor": 0,
              "version_major": 2
            },
            "text/plain": [
              "HBox(children=(IntProgress(value=0, description='Writing...', max=2500, style=ProgressStyle(description_width=…"
            ]
          },
          "metadata": {
            "tags": []
          }
        },
        {
          "output_type": "display_data",
          "data": {
            "application/vnd.jupyter.widget-view+json": {
              "model_id": "cb6b4f25283d461e9d6c36670c56ea7c",
              "version_minor": 0,
              "version_major": 2
            },
            "text/plain": [
              "HBox(children=(IntProgress(value=1, bar_style='info', description='Reading...', max=1, style=ProgressStyle(des…"
            ]
          },
          "metadata": {
            "tags": []
          }
        },
        {
          "output_type": "display_data",
          "data": {
            "application/vnd.jupyter.widget-view+json": {
              "model_id": "b27095a0d20647ebb507b50b51a2f5c8",
              "version_minor": 0,
              "version_major": 2
            },
            "text/plain": [
              "HBox(children=(IntProgress(value=0, description='Writing...', max=2500, style=ProgressStyle(description_width=…"
            ]
          },
          "metadata": {
            "tags": []
          }
        },
        {
          "output_type": "display_data",
          "data": {
            "application/vnd.jupyter.widget-view+json": {
              "model_id": "740ba91a923946a996a247d26eda040f",
              "version_minor": 0,
              "version_major": 2
            },
            "text/plain": [
              "HBox(children=(IntProgress(value=1, bar_style='info', description='Reading...', max=1, style=ProgressStyle(des…"
            ]
          },
          "metadata": {
            "tags": []
          }
        },
        {
          "output_type": "display_data",
          "data": {
            "application/vnd.jupyter.widget-view+json": {
              "model_id": "9fdbc9e9b7a54a578b590d536959b7c7",
              "version_minor": 0,
              "version_major": 2
            },
            "text/plain": [
              "HBox(children=(IntProgress(value=0, description='Writing...', max=2500, style=ProgressStyle(description_width=…"
            ]
          },
          "metadata": {
            "tags": []
          }
        },
        {
          "output_type": "display_data",
          "data": {
            "application/vnd.jupyter.widget-view+json": {
              "model_id": "70232ff42cf64f218995aacf060b7d5c",
              "version_minor": 0,
              "version_major": 2
            },
            "text/plain": [
              "HBox(children=(IntProgress(value=1, bar_style='info', description='Reading...', max=1, style=ProgressStyle(des…"
            ]
          },
          "metadata": {
            "tags": []
          }
        },
        {
          "output_type": "display_data",
          "data": {
            "application/vnd.jupyter.widget-view+json": {
              "model_id": "df12a354a3ee4a73a4ac11c91478dd69",
              "version_minor": 0,
              "version_major": 2
            },
            "text/plain": [
              "HBox(children=(IntProgress(value=0, description='Writing...', max=2500, style=ProgressStyle(description_width=…"
            ]
          },
          "metadata": {
            "tags": []
          }
        },
        {
          "output_type": "display_data",
          "data": {
            "application/vnd.jupyter.widget-view+json": {
              "model_id": "3267043f9b8b4ef5bc05b4824fe38939",
              "version_minor": 0,
              "version_major": 2
            },
            "text/plain": [
              "HBox(children=(IntProgress(value=1, bar_style='info', description='Reading...', max=1, style=ProgressStyle(des…"
            ]
          },
          "metadata": {
            "tags": []
          }
        },
        {
          "output_type": "display_data",
          "data": {
            "application/vnd.jupyter.widget-view+json": {
              "model_id": "43cf6a48039f43a2939ff5d4e9fa8e43",
              "version_minor": 0,
              "version_major": 2
            },
            "text/plain": [
              "HBox(children=(IntProgress(value=0, description='Writing...', max=2500, style=ProgressStyle(description_width=…"
            ]
          },
          "metadata": {
            "tags": []
          }
        },
        {
          "output_type": "display_data",
          "data": {
            "application/vnd.jupyter.widget-view+json": {
              "model_id": "dce1679bc32b406fb3b38939ab22f9a7",
              "version_minor": 0,
              "version_major": 2
            },
            "text/plain": [
              "HBox(children=(IntProgress(value=1, bar_style='info', description='Reading...', max=1, style=ProgressStyle(des…"
            ]
          },
          "metadata": {
            "tags": []
          }
        },
        {
          "output_type": "display_data",
          "data": {
            "application/vnd.jupyter.widget-view+json": {
              "model_id": "b33575808ac7425096ce6827c4647872",
              "version_minor": 0,
              "version_major": 2
            },
            "text/plain": [
              "HBox(children=(IntProgress(value=0, description='Writing...', max=2500, style=ProgressStyle(description_width=…"
            ]
          },
          "metadata": {
            "tags": []
          }
        },
        {
          "output_type": "display_data",
          "data": {
            "application/vnd.jupyter.widget-view+json": {
              "model_id": "bb58e35703f641959bec3d4edcdc03c9",
              "version_minor": 0,
              "version_major": 2
            },
            "text/plain": [
              "HBox(children=(IntProgress(value=1, bar_style='info', description='Reading...', max=1, style=ProgressStyle(des…"
            ]
          },
          "metadata": {
            "tags": []
          }
        },
        {
          "output_type": "display_data",
          "data": {
            "application/vnd.jupyter.widget-view+json": {
              "model_id": "54d70664ab54499fb63a3619852a462c",
              "version_minor": 0,
              "version_major": 2
            },
            "text/plain": [
              "HBox(children=(IntProgress(value=0, description='Writing...', max=2500, style=ProgressStyle(description_width=…"
            ]
          },
          "metadata": {
            "tags": []
          }
        },
        {
          "output_type": "display_data",
          "data": {
            "application/vnd.jupyter.widget-view+json": {
              "model_id": "d9c4de5ccd1947f596d3fa56f254e6a9",
              "version_minor": 0,
              "version_major": 2
            },
            "text/plain": [
              "HBox(children=(IntProgress(value=1, bar_style='info', description='Reading...', max=1, style=ProgressStyle(des…"
            ]
          },
          "metadata": {
            "tags": []
          }
        },
        {
          "output_type": "display_data",
          "data": {
            "application/vnd.jupyter.widget-view+json": {
              "model_id": "e9c26ecf032648d494ff8868f9247620",
              "version_minor": 0,
              "version_major": 2
            },
            "text/plain": [
              "HBox(children=(IntProgress(value=0, description='Writing...', max=2500, style=ProgressStyle(description_width=…"
            ]
          },
          "metadata": {
            "tags": []
          }
        },
        {
          "output_type": "display_data",
          "data": {
            "application/vnd.jupyter.widget-view+json": {
              "model_id": "dc8d3be764024b9cb1a66fa9ce85ebbf",
              "version_minor": 0,
              "version_major": 2
            },
            "text/plain": [
              "HBox(children=(IntProgress(value=1, bar_style='info', description='Reading...', max=1, style=ProgressStyle(des…"
            ]
          },
          "metadata": {
            "tags": []
          }
        },
        {
          "output_type": "display_data",
          "data": {
            "application/vnd.jupyter.widget-view+json": {
              "model_id": "b74b5766616a41b9b1d8588fb099b1b6",
              "version_minor": 0,
              "version_major": 2
            },
            "text/plain": [
              "HBox(children=(IntProgress(value=0, description='Writing...', max=2500, style=ProgressStyle(description_width=…"
            ]
          },
          "metadata": {
            "tags": []
          }
        },
        {
          "output_type": "stream",
          "text": [
            "\r"
          ],
          "name": "stdout"
        },
        {
          "output_type": "display_data",
          "data": {
            "application/vnd.jupyter.widget-view+json": {
              "model_id": "064a436c09894ca6a84a1ff36422ddf0",
              "version_minor": 0,
              "version_major": 2
            },
            "text/plain": [
              "HBox(children=(IntProgress(value=1, bar_style='info', max=1), HTML(value='')))"
            ]
          },
          "metadata": {
            "tags": []
          }
        },
        {
          "output_type": "stream",
          "text": [
            "\r"
          ],
          "name": "stdout"
        },
        {
          "output_type": "display_data",
          "data": {
            "application/vnd.jupyter.widget-view+json": {
              "model_id": "a0dd59592f1f49c6816a8783bd7e534b",
              "version_minor": 0,
              "version_major": 2
            },
            "text/plain": [
              "HBox(children=(IntProgress(value=0, description='Shuffling...', max=10, style=ProgressStyle(description_width=…"
            ]
          },
          "metadata": {
            "tags": []
          }
        },
        {
          "output_type": "display_data",
          "data": {
            "application/vnd.jupyter.widget-view+json": {
              "model_id": "d2d08f3e724048a1b2285796e1f05bfd",
              "version_minor": 0,
              "version_major": 2
            },
            "text/plain": [
              "HBox(children=(IntProgress(value=1, bar_style='info', description='Reading...', max=1, style=ProgressStyle(des…"
            ]
          },
          "metadata": {
            "tags": []
          }
        },
        {
          "output_type": "display_data",
          "data": {
            "application/vnd.jupyter.widget-view+json": {
              "model_id": "20f3c420939b4785bc6faae50bcbb069",
              "version_minor": 0,
              "version_major": 2
            },
            "text/plain": [
              "HBox(children=(IntProgress(value=0, description='Writing...', max=2500, style=ProgressStyle(description_width=…"
            ]
          },
          "metadata": {
            "tags": []
          }
        },
        {
          "output_type": "display_data",
          "data": {
            "application/vnd.jupyter.widget-view+json": {
              "model_id": "cfa5ab6b706547e4a64ed5b468d6ab2a",
              "version_minor": 0,
              "version_major": 2
            },
            "text/plain": [
              "HBox(children=(IntProgress(value=1, bar_style='info', description='Reading...', max=1, style=ProgressStyle(des…"
            ]
          },
          "metadata": {
            "tags": []
          }
        },
        {
          "output_type": "display_data",
          "data": {
            "application/vnd.jupyter.widget-view+json": {
              "model_id": "01b12a9813554d44a441b0da9d37a0ce",
              "version_minor": 0,
              "version_major": 2
            },
            "text/plain": [
              "HBox(children=(IntProgress(value=0, description='Writing...', max=2500, style=ProgressStyle(description_width=…"
            ]
          },
          "metadata": {
            "tags": []
          }
        },
        {
          "output_type": "display_data",
          "data": {
            "application/vnd.jupyter.widget-view+json": {
              "model_id": "e4aed87a4bdf413bacbf90c047d39889",
              "version_minor": 0,
              "version_major": 2
            },
            "text/plain": [
              "HBox(children=(IntProgress(value=1, bar_style='info', description='Reading...', max=1, style=ProgressStyle(des…"
            ]
          },
          "metadata": {
            "tags": []
          }
        },
        {
          "output_type": "display_data",
          "data": {
            "application/vnd.jupyter.widget-view+json": {
              "model_id": "edd32d0e5c7a4478bc98d32303d141d7",
              "version_minor": 0,
              "version_major": 2
            },
            "text/plain": [
              "HBox(children=(IntProgress(value=0, description='Writing...', max=2500, style=ProgressStyle(description_width=…"
            ]
          },
          "metadata": {
            "tags": []
          }
        },
        {
          "output_type": "display_data",
          "data": {
            "application/vnd.jupyter.widget-view+json": {
              "model_id": "ebe031ffe1c34e6cb14d3aa070d46369",
              "version_minor": 0,
              "version_major": 2
            },
            "text/plain": [
              "HBox(children=(IntProgress(value=1, bar_style='info', description='Reading...', max=1, style=ProgressStyle(des…"
            ]
          },
          "metadata": {
            "tags": []
          }
        },
        {
          "output_type": "display_data",
          "data": {
            "application/vnd.jupyter.widget-view+json": {
              "model_id": "bc02e9c9171a4717bfbfe21d74508fa9",
              "version_minor": 0,
              "version_major": 2
            },
            "text/plain": [
              "HBox(children=(IntProgress(value=0, description='Writing...', max=2500, style=ProgressStyle(description_width=…"
            ]
          },
          "metadata": {
            "tags": []
          }
        },
        {
          "output_type": "display_data",
          "data": {
            "application/vnd.jupyter.widget-view+json": {
              "model_id": "a715f803526648b29c2df4f11b249041",
              "version_minor": 0,
              "version_major": 2
            },
            "text/plain": [
              "HBox(children=(IntProgress(value=1, bar_style='info', description='Reading...', max=1, style=ProgressStyle(des…"
            ]
          },
          "metadata": {
            "tags": []
          }
        },
        {
          "output_type": "display_data",
          "data": {
            "application/vnd.jupyter.widget-view+json": {
              "model_id": "16592afa2fee4936a1aa8c76595f5a7b",
              "version_minor": 0,
              "version_major": 2
            },
            "text/plain": [
              "HBox(children=(IntProgress(value=0, description='Writing...', max=2500, style=ProgressStyle(description_width=…"
            ]
          },
          "metadata": {
            "tags": []
          }
        },
        {
          "output_type": "display_data",
          "data": {
            "application/vnd.jupyter.widget-view+json": {
              "model_id": "2e563f0e6c474f14941bce177f9db7ef",
              "version_minor": 0,
              "version_major": 2
            },
            "text/plain": [
              "HBox(children=(IntProgress(value=1, bar_style='info', description='Reading...', max=1, style=ProgressStyle(des…"
            ]
          },
          "metadata": {
            "tags": []
          }
        },
        {
          "output_type": "display_data",
          "data": {
            "application/vnd.jupyter.widget-view+json": {
              "model_id": "221ab2f27cd7401694c4e31eb26e2c62",
              "version_minor": 0,
              "version_major": 2
            },
            "text/plain": [
              "HBox(children=(IntProgress(value=0, description='Writing...', max=2500, style=ProgressStyle(description_width=…"
            ]
          },
          "metadata": {
            "tags": []
          }
        },
        {
          "output_type": "display_data",
          "data": {
            "application/vnd.jupyter.widget-view+json": {
              "model_id": "536a0309bcad444ab3bacd8a71c321a3",
              "version_minor": 0,
              "version_major": 2
            },
            "text/plain": [
              "HBox(children=(IntProgress(value=1, bar_style='info', description='Reading...', max=1, style=ProgressStyle(des…"
            ]
          },
          "metadata": {
            "tags": []
          }
        },
        {
          "output_type": "display_data",
          "data": {
            "application/vnd.jupyter.widget-view+json": {
              "model_id": "44a1652334d449bfa71eb258bc914e42",
              "version_minor": 0,
              "version_major": 2
            },
            "text/plain": [
              "HBox(children=(IntProgress(value=0, description='Writing...', max=2500, style=ProgressStyle(description_width=…"
            ]
          },
          "metadata": {
            "tags": []
          }
        },
        {
          "output_type": "display_data",
          "data": {
            "application/vnd.jupyter.widget-view+json": {
              "model_id": "1e847638ea544c7db6177ca86e87f856",
              "version_minor": 0,
              "version_major": 2
            },
            "text/plain": [
              "HBox(children=(IntProgress(value=1, bar_style='info', description='Reading...', max=1, style=ProgressStyle(des…"
            ]
          },
          "metadata": {
            "tags": []
          }
        },
        {
          "output_type": "display_data",
          "data": {
            "application/vnd.jupyter.widget-view+json": {
              "model_id": "a06e3c2df5b64e3ebbbcefe13b18848e",
              "version_minor": 0,
              "version_major": 2
            },
            "text/plain": [
              "HBox(children=(IntProgress(value=0, description='Writing...', max=2500, style=ProgressStyle(description_width=…"
            ]
          },
          "metadata": {
            "tags": []
          }
        },
        {
          "output_type": "display_data",
          "data": {
            "application/vnd.jupyter.widget-view+json": {
              "model_id": "1a7dd81de5124ffaa64af03ed4dd6a7d",
              "version_minor": 0,
              "version_major": 2
            },
            "text/plain": [
              "HBox(children=(IntProgress(value=1, bar_style='info', description='Reading...', max=1, style=ProgressStyle(des…"
            ]
          },
          "metadata": {
            "tags": []
          }
        },
        {
          "output_type": "display_data",
          "data": {
            "application/vnd.jupyter.widget-view+json": {
              "model_id": "0df15b2af8f44ceda555f41fe741d483",
              "version_minor": 0,
              "version_major": 2
            },
            "text/plain": [
              "HBox(children=(IntProgress(value=0, description='Writing...', max=2500, style=ProgressStyle(description_width=…"
            ]
          },
          "metadata": {
            "tags": []
          }
        },
        {
          "output_type": "display_data",
          "data": {
            "application/vnd.jupyter.widget-view+json": {
              "model_id": "65e58a415ad74d2c97eff7cd674d97e1",
              "version_minor": 0,
              "version_major": 2
            },
            "text/plain": [
              "HBox(children=(IntProgress(value=1, bar_style='info', description='Reading...', max=1, style=ProgressStyle(des…"
            ]
          },
          "metadata": {
            "tags": []
          }
        },
        {
          "output_type": "display_data",
          "data": {
            "application/vnd.jupyter.widget-view+json": {
              "model_id": "fab450f3b002480e8fecd2628527be51",
              "version_minor": 0,
              "version_major": 2
            },
            "text/plain": [
              "HBox(children=(IntProgress(value=0, description='Writing...', max=2500, style=ProgressStyle(description_width=…"
            ]
          },
          "metadata": {
            "tags": []
          }
        },
        {
          "output_type": "stream",
          "text": [
            "\r"
          ],
          "name": "stdout"
        },
        {
          "output_type": "display_data",
          "data": {
            "application/vnd.jupyter.widget-view+json": {
              "model_id": "285c76417cd8410695c3cd806e8352d4",
              "version_minor": 0,
              "version_major": 2
            },
            "text/plain": [
              "HBox(children=(IntProgress(value=1, bar_style='info', max=1), HTML(value='')))"
            ]
          },
          "metadata": {
            "tags": []
          }
        },
        {
          "output_type": "stream",
          "text": [
            "\r"
          ],
          "name": "stdout"
        },
        {
          "output_type": "display_data",
          "data": {
            "application/vnd.jupyter.widget-view+json": {
              "model_id": "4485df91e2dc48eaa647e03c6e0628b8",
              "version_minor": 0,
              "version_major": 2
            },
            "text/plain": [
              "HBox(children=(IntProgress(value=0, description='Shuffling...', max=20, style=ProgressStyle(description_width=…"
            ]
          },
          "metadata": {
            "tags": []
          }
        },
        {
          "output_type": "display_data",
          "data": {
            "application/vnd.jupyter.widget-view+json": {
              "model_id": "a47ae6fdcb4940d5b9812dcde0e7bc0d",
              "version_minor": 0,
              "version_major": 2
            },
            "text/plain": [
              "HBox(children=(IntProgress(value=1, bar_style='info', description='Reading...', max=1, style=ProgressStyle(des…"
            ]
          },
          "metadata": {
            "tags": []
          }
        },
        {
          "output_type": "display_data",
          "data": {
            "application/vnd.jupyter.widget-view+json": {
              "model_id": "6f4169c5d7d040e680cd3b967df33e31",
              "version_minor": 0,
              "version_major": 2
            },
            "text/plain": [
              "HBox(children=(IntProgress(value=0, description='Writing...', max=2500, style=ProgressStyle(description_width=…"
            ]
          },
          "metadata": {
            "tags": []
          }
        },
        {
          "output_type": "display_data",
          "data": {
            "application/vnd.jupyter.widget-view+json": {
              "model_id": "15a080bca4094de8957d1b68d78ff2e6",
              "version_minor": 0,
              "version_major": 2
            },
            "text/plain": [
              "HBox(children=(IntProgress(value=1, bar_style='info', description='Reading...', max=1, style=ProgressStyle(des…"
            ]
          },
          "metadata": {
            "tags": []
          }
        },
        {
          "output_type": "display_data",
          "data": {
            "application/vnd.jupyter.widget-view+json": {
              "model_id": "956c669150b14f058e157ab26c83689b",
              "version_minor": 0,
              "version_major": 2
            },
            "text/plain": [
              "HBox(children=(IntProgress(value=0, description='Writing...', max=2500, style=ProgressStyle(description_width=…"
            ]
          },
          "metadata": {
            "tags": []
          }
        },
        {
          "output_type": "display_data",
          "data": {
            "application/vnd.jupyter.widget-view+json": {
              "model_id": "fd1789a3ea22406a903030fa1374e0bc",
              "version_minor": 0,
              "version_major": 2
            },
            "text/plain": [
              "HBox(children=(IntProgress(value=1, bar_style='info', description='Reading...', max=1, style=ProgressStyle(des…"
            ]
          },
          "metadata": {
            "tags": []
          }
        },
        {
          "output_type": "display_data",
          "data": {
            "application/vnd.jupyter.widget-view+json": {
              "model_id": "031822a023f44b69b1c2925126221222",
              "version_minor": 0,
              "version_major": 2
            },
            "text/plain": [
              "HBox(children=(IntProgress(value=0, description='Writing...', max=2500, style=ProgressStyle(description_width=…"
            ]
          },
          "metadata": {
            "tags": []
          }
        },
        {
          "output_type": "display_data",
          "data": {
            "application/vnd.jupyter.widget-view+json": {
              "model_id": "2890e0f631514a1482b82be2dcfff088",
              "version_minor": 0,
              "version_major": 2
            },
            "text/plain": [
              "HBox(children=(IntProgress(value=1, bar_style='info', description='Reading...', max=1, style=ProgressStyle(des…"
            ]
          },
          "metadata": {
            "tags": []
          }
        },
        {
          "output_type": "display_data",
          "data": {
            "application/vnd.jupyter.widget-view+json": {
              "model_id": "99dde7e66af54edf9fd3fe3ae92eb35c",
              "version_minor": 0,
              "version_major": 2
            },
            "text/plain": [
              "HBox(children=(IntProgress(value=0, description='Writing...', max=2500, style=ProgressStyle(description_width=…"
            ]
          },
          "metadata": {
            "tags": []
          }
        },
        {
          "output_type": "display_data",
          "data": {
            "application/vnd.jupyter.widget-view+json": {
              "model_id": "5fa98766c5624e7a9740f60701ca9681",
              "version_minor": 0,
              "version_major": 2
            },
            "text/plain": [
              "HBox(children=(IntProgress(value=1, bar_style='info', description='Reading...', max=1, style=ProgressStyle(des…"
            ]
          },
          "metadata": {
            "tags": []
          }
        },
        {
          "output_type": "display_data",
          "data": {
            "application/vnd.jupyter.widget-view+json": {
              "model_id": "ae22ebfd4cfb41b69f32d1da4d2a7c1a",
              "version_minor": 0,
              "version_major": 2
            },
            "text/plain": [
              "HBox(children=(IntProgress(value=0, description='Writing...', max=2500, style=ProgressStyle(description_width=…"
            ]
          },
          "metadata": {
            "tags": []
          }
        },
        {
          "output_type": "display_data",
          "data": {
            "application/vnd.jupyter.widget-view+json": {
              "model_id": "3eadf9bd72f4425aa76d75d3bd29e5ee",
              "version_minor": 0,
              "version_major": 2
            },
            "text/plain": [
              "HBox(children=(IntProgress(value=1, bar_style='info', description='Reading...', max=1, style=ProgressStyle(des…"
            ]
          },
          "metadata": {
            "tags": []
          }
        },
        {
          "output_type": "display_data",
          "data": {
            "application/vnd.jupyter.widget-view+json": {
              "model_id": "a1544eef884f44deb6ad2157680990ce",
              "version_minor": 0,
              "version_major": 2
            },
            "text/plain": [
              "HBox(children=(IntProgress(value=0, description='Writing...', max=2500, style=ProgressStyle(description_width=…"
            ]
          },
          "metadata": {
            "tags": []
          }
        },
        {
          "output_type": "display_data",
          "data": {
            "application/vnd.jupyter.widget-view+json": {
              "model_id": "81ef7f99315e4f9dab7779ced1bdb369",
              "version_minor": 0,
              "version_major": 2
            },
            "text/plain": [
              "HBox(children=(IntProgress(value=1, bar_style='info', description='Reading...', max=1, style=ProgressStyle(des…"
            ]
          },
          "metadata": {
            "tags": []
          }
        },
        {
          "output_type": "display_data",
          "data": {
            "application/vnd.jupyter.widget-view+json": {
              "model_id": "1c3d5657a51f41279d19d3f33661567d",
              "version_minor": 0,
              "version_major": 2
            },
            "text/plain": [
              "HBox(children=(IntProgress(value=0, description='Writing...', max=2500, style=ProgressStyle(description_width=…"
            ]
          },
          "metadata": {
            "tags": []
          }
        },
        {
          "output_type": "display_data",
          "data": {
            "application/vnd.jupyter.widget-view+json": {
              "model_id": "90d6f1cdd8b84343aaacfae90c8ab378",
              "version_minor": 0,
              "version_major": 2
            },
            "text/plain": [
              "HBox(children=(IntProgress(value=1, bar_style='info', description='Reading...', max=1, style=ProgressStyle(des…"
            ]
          },
          "metadata": {
            "tags": []
          }
        },
        {
          "output_type": "display_data",
          "data": {
            "application/vnd.jupyter.widget-view+json": {
              "model_id": "26ecc9424b89457181f0a3dc6440c45b",
              "version_minor": 0,
              "version_major": 2
            },
            "text/plain": [
              "HBox(children=(IntProgress(value=0, description='Writing...', max=2500, style=ProgressStyle(description_width=…"
            ]
          },
          "metadata": {
            "tags": []
          }
        },
        {
          "output_type": "display_data",
          "data": {
            "application/vnd.jupyter.widget-view+json": {
              "model_id": "67208e388c6142d298c3b2b10325aed5",
              "version_minor": 0,
              "version_major": 2
            },
            "text/plain": [
              "HBox(children=(IntProgress(value=1, bar_style='info', description='Reading...', max=1, style=ProgressStyle(des…"
            ]
          },
          "metadata": {
            "tags": []
          }
        },
        {
          "output_type": "display_data",
          "data": {
            "application/vnd.jupyter.widget-view+json": {
              "model_id": "c13a1ff3d56d41de8fc1c52d07326171",
              "version_minor": 0,
              "version_major": 2
            },
            "text/plain": [
              "HBox(children=(IntProgress(value=0, description='Writing...', max=2500, style=ProgressStyle(description_width=…"
            ]
          },
          "metadata": {
            "tags": []
          }
        },
        {
          "output_type": "display_data",
          "data": {
            "application/vnd.jupyter.widget-view+json": {
              "model_id": "74a512b1e87844b08787a9545b382522",
              "version_minor": 0,
              "version_major": 2
            },
            "text/plain": [
              "HBox(children=(IntProgress(value=1, bar_style='info', description='Reading...', max=1, style=ProgressStyle(des…"
            ]
          },
          "metadata": {
            "tags": []
          }
        },
        {
          "output_type": "display_data",
          "data": {
            "application/vnd.jupyter.widget-view+json": {
              "model_id": "9c9898296b704a189bc7deddbe1b1945",
              "version_minor": 0,
              "version_major": 2
            },
            "text/plain": [
              "HBox(children=(IntProgress(value=0, description='Writing...', max=2500, style=ProgressStyle(description_width=…"
            ]
          },
          "metadata": {
            "tags": []
          }
        },
        {
          "output_type": "display_data",
          "data": {
            "application/vnd.jupyter.widget-view+json": {
              "model_id": "ac6eb79f7c7646e1935832e3de926805",
              "version_minor": 0,
              "version_major": 2
            },
            "text/plain": [
              "HBox(children=(IntProgress(value=1, bar_style='info', description='Reading...', max=1, style=ProgressStyle(des…"
            ]
          },
          "metadata": {
            "tags": []
          }
        },
        {
          "output_type": "display_data",
          "data": {
            "application/vnd.jupyter.widget-view+json": {
              "model_id": "7e3a6c187e62456c8ab2702a6524af67",
              "version_minor": 0,
              "version_major": 2
            },
            "text/plain": [
              "HBox(children=(IntProgress(value=0, description='Writing...', max=2500, style=ProgressStyle(description_width=…"
            ]
          },
          "metadata": {
            "tags": []
          }
        },
        {
          "output_type": "display_data",
          "data": {
            "application/vnd.jupyter.widget-view+json": {
              "model_id": "c536a43819194e659abb4f87f87f55e5",
              "version_minor": 0,
              "version_major": 2
            },
            "text/plain": [
              "HBox(children=(IntProgress(value=1, bar_style='info', description='Reading...', max=1, style=ProgressStyle(des…"
            ]
          },
          "metadata": {
            "tags": []
          }
        },
        {
          "output_type": "display_data",
          "data": {
            "application/vnd.jupyter.widget-view+json": {
              "model_id": "bf67c028abec448d847f6d21e9fc4f67",
              "version_minor": 0,
              "version_major": 2
            },
            "text/plain": [
              "HBox(children=(IntProgress(value=0, description='Writing...', max=2500, style=ProgressStyle(description_width=…"
            ]
          },
          "metadata": {
            "tags": []
          }
        },
        {
          "output_type": "display_data",
          "data": {
            "application/vnd.jupyter.widget-view+json": {
              "model_id": "0f40c8845eda4ba4814c62ca9862bcc9",
              "version_minor": 0,
              "version_major": 2
            },
            "text/plain": [
              "HBox(children=(IntProgress(value=1, bar_style='info', description='Reading...', max=1, style=ProgressStyle(des…"
            ]
          },
          "metadata": {
            "tags": []
          }
        },
        {
          "output_type": "display_data",
          "data": {
            "application/vnd.jupyter.widget-view+json": {
              "model_id": "9b35d9ecb97c4d10b50d2eeeb682d2ba",
              "version_minor": 0,
              "version_major": 2
            },
            "text/plain": [
              "HBox(children=(IntProgress(value=0, description='Writing...', max=2500, style=ProgressStyle(description_width=…"
            ]
          },
          "metadata": {
            "tags": []
          }
        },
        {
          "output_type": "display_data",
          "data": {
            "application/vnd.jupyter.widget-view+json": {
              "model_id": "5592b1c697464cb4a04a9f12f36120d7",
              "version_minor": 0,
              "version_major": 2
            },
            "text/plain": [
              "HBox(children=(IntProgress(value=1, bar_style='info', description='Reading...', max=1, style=ProgressStyle(des…"
            ]
          },
          "metadata": {
            "tags": []
          }
        },
        {
          "output_type": "display_data",
          "data": {
            "application/vnd.jupyter.widget-view+json": {
              "model_id": "16da8d69fabb4c2e9d2779527ab77b93",
              "version_minor": 0,
              "version_major": 2
            },
            "text/plain": [
              "HBox(children=(IntProgress(value=0, description='Writing...', max=2500, style=ProgressStyle(description_width=…"
            ]
          },
          "metadata": {
            "tags": []
          }
        },
        {
          "output_type": "display_data",
          "data": {
            "application/vnd.jupyter.widget-view+json": {
              "model_id": "94322f22407543849736cd6182b02635",
              "version_minor": 0,
              "version_major": 2
            },
            "text/plain": [
              "HBox(children=(IntProgress(value=1, bar_style='info', description='Reading...', max=1, style=ProgressStyle(des…"
            ]
          },
          "metadata": {
            "tags": []
          }
        },
        {
          "output_type": "display_data",
          "data": {
            "application/vnd.jupyter.widget-view+json": {
              "model_id": "f9808df036a74e1e80e9310f6ac93e93",
              "version_minor": 0,
              "version_major": 2
            },
            "text/plain": [
              "HBox(children=(IntProgress(value=0, description='Writing...', max=2500, style=ProgressStyle(description_width=…"
            ]
          },
          "metadata": {
            "tags": []
          }
        },
        {
          "output_type": "display_data",
          "data": {
            "application/vnd.jupyter.widget-view+json": {
              "model_id": "46db42e68aaf4f9fb561803c267ac213",
              "version_minor": 0,
              "version_major": 2
            },
            "text/plain": [
              "HBox(children=(IntProgress(value=1, bar_style='info', description='Reading...', max=1, style=ProgressStyle(des…"
            ]
          },
          "metadata": {
            "tags": []
          }
        },
        {
          "output_type": "display_data",
          "data": {
            "application/vnd.jupyter.widget-view+json": {
              "model_id": "c7f03c6783664176a01d0ec6f18088bd",
              "version_minor": 0,
              "version_major": 2
            },
            "text/plain": [
              "HBox(children=(IntProgress(value=0, description='Writing...', max=2500, style=ProgressStyle(description_width=…"
            ]
          },
          "metadata": {
            "tags": []
          }
        },
        {
          "output_type": "display_data",
          "data": {
            "application/vnd.jupyter.widget-view+json": {
              "model_id": "9080db872bd7490dbcd99fcd3ce8a76a",
              "version_minor": 0,
              "version_major": 2
            },
            "text/plain": [
              "HBox(children=(IntProgress(value=1, bar_style='info', description='Reading...', max=1, style=ProgressStyle(des…"
            ]
          },
          "metadata": {
            "tags": []
          }
        },
        {
          "output_type": "display_data",
          "data": {
            "application/vnd.jupyter.widget-view+json": {
              "model_id": "f60dc53f8fce4f8697f33690aead0c06",
              "version_minor": 0,
              "version_major": 2
            },
            "text/plain": [
              "HBox(children=(IntProgress(value=0, description='Writing...', max=2500, style=ProgressStyle(description_width=…"
            ]
          },
          "metadata": {
            "tags": []
          }
        },
        {
          "output_type": "display_data",
          "data": {
            "application/vnd.jupyter.widget-view+json": {
              "model_id": "4c2a1084444a4b85ba39ba4020eb67a4",
              "version_minor": 0,
              "version_major": 2
            },
            "text/plain": [
              "HBox(children=(IntProgress(value=1, bar_style='info', description='Reading...', max=1, style=ProgressStyle(des…"
            ]
          },
          "metadata": {
            "tags": []
          }
        },
        {
          "output_type": "display_data",
          "data": {
            "application/vnd.jupyter.widget-view+json": {
              "model_id": "d7dd2bd6173a4541942c338e0a69dc24",
              "version_minor": 0,
              "version_major": 2
            },
            "text/plain": [
              "HBox(children=(IntProgress(value=0, description='Writing...', max=2500, style=ProgressStyle(description_width=…"
            ]
          },
          "metadata": {
            "tags": []
          }
        },
        {
          "output_type": "display_data",
          "data": {
            "application/vnd.jupyter.widget-view+json": {
              "model_id": "6fcd71f8307f405498bab3a4c7293805",
              "version_minor": 0,
              "version_major": 2
            },
            "text/plain": [
              "HBox(children=(IntProgress(value=1, bar_style='info', description='Reading...', max=1, style=ProgressStyle(des…"
            ]
          },
          "metadata": {
            "tags": []
          }
        },
        {
          "output_type": "display_data",
          "data": {
            "application/vnd.jupyter.widget-view+json": {
              "model_id": "e5be2a6244244dc6a21ef0601e549aa9",
              "version_minor": 0,
              "version_major": 2
            },
            "text/plain": [
              "HBox(children=(IntProgress(value=0, description='Writing...', max=2500, style=ProgressStyle(description_width=…"
            ]
          },
          "metadata": {
            "tags": []
          }
        },
        {
          "output_type": "display_data",
          "data": {
            "application/vnd.jupyter.widget-view+json": {
              "model_id": "34cf185a38714c5e93e0cdfe8be94b7a",
              "version_minor": 0,
              "version_major": 2
            },
            "text/plain": [
              "HBox(children=(IntProgress(value=1, bar_style='info', description='Reading...', max=1, style=ProgressStyle(des…"
            ]
          },
          "metadata": {
            "tags": []
          }
        },
        {
          "output_type": "display_data",
          "data": {
            "application/vnd.jupyter.widget-view+json": {
              "model_id": "5c3fd498e5e74f07b28aa9cfd93efda9",
              "version_minor": 0,
              "version_major": 2
            },
            "text/plain": [
              "HBox(children=(IntProgress(value=0, description='Writing...', max=2500, style=ProgressStyle(description_width=…"
            ]
          },
          "metadata": {
            "tags": []
          }
        },
        {
          "output_type": "stream",
          "text": [
            "\r\u001b[1mDataset imdb_reviews downloaded and prepared to /root/tensorflow_datasets/imdb_reviews/subwords8k/0.1.0. Subsequent calls will reuse this data.\u001b[0m\n"
          ],
          "name": "stdout"
        }
      ]
    },
    {
      "cell_type": "code",
      "metadata": {
        "id": "WPb95p1cV7Dh",
        "colab_type": "code",
        "colab": {}
      },
      "source": [
        "encoder = info.features['text'].encoder"
      ],
      "execution_count": 0,
      "outputs": []
    },
    {
      "cell_type": "code",
      "metadata": {
        "id": "ukuUlGntV93N",
        "colab_type": "code",
        "colab": {}
      },
      "source": [
        "padded_shapes = ([None],())\n",
        "train_batches = train_data.shuffle(1000).padded_batch(10, padded_shapes = padded_shapes)\n",
        "test_batches = test_data.shuffle(1000).padded_batch(10, padded_shapes = padded_shapes)"
      ],
      "execution_count": 0,
      "outputs": []
    },
    {
      "cell_type": "code",
      "metadata": {
        "id": "DnDvMatxVSdx",
        "colab_type": "code",
        "colab": {
          "base_uri": "https://localhost:8080/",
          "height": 289
        },
        "outputId": "f8de557d-a822-41dd-8c67-d544e59c05e2"
      },
      "source": [
        "model = tf.keras.Sequential([\n",
        "  tf.keras.layers.Embedding(encoder.vocab_size, 16),\n",
        "  tf.keras.layers.GlobalAveragePooling1D(),\n",
        "  tf.keras.layers.Dense(16, activation='relu'),\n",
        "  tf.keras.layers.Dense(1, activation='sigmoid')\n",
        "])\n",
        "\n",
        "model.summary()"
      ],
      "execution_count": 7,
      "outputs": [
        {
          "output_type": "stream",
          "text": [
            "Model: \"sequential\"\n",
            "_________________________________________________________________\n",
            "Layer (type)                 Output Shape              Param #   \n",
            "=================================================================\n",
            "embedding (Embedding)        (None, None, 16)          130960    \n",
            "_________________________________________________________________\n",
            "global_average_pooling1d (Gl (None, 16)                0         \n",
            "_________________________________________________________________\n",
            "dense (Dense)                (None, 16)                272       \n",
            "_________________________________________________________________\n",
            "dense_1 (Dense)              (None, 1)                 17        \n",
            "=================================================================\n",
            "Total params: 131,249\n",
            "Trainable params: 131,249\n",
            "Non-trainable params: 0\n",
            "_________________________________________________________________\n"
          ],
          "name": "stdout"
        }
      ]
    },
    {
      "cell_type": "code",
      "metadata": {
        "id": "2C7CkdGyVt6M",
        "colab_type": "code",
        "colab": {}
      },
      "source": [
        "model.compile(optimizer='adam',\n",
        "              loss='binary_crossentropy',\n",
        "              metrics=['accuracy'])"
      ],
      "execution_count": 0,
      "outputs": []
    },
    {
      "cell_type": "code",
      "metadata": {
        "id": "z7VR2HEnW1GE",
        "colab_type": "code",
        "colab": {
          "base_uri": "https://localhost:8080/",
          "height": 357
        },
        "outputId": "9fb399ae-57a5-41f5-8624-f3c09792af88"
      },
      "source": [
        "history = model.fit(\n",
        "    train_batches,\n",
        "    epochs=10,\n",
        "    validation_data=test_batches, validation_steps=20)"
      ],
      "execution_count": 9,
      "outputs": [
        {
          "output_type": "stream",
          "text": [
            "Epoch 1/10\n",
            "2500/2500 [==============================] - 26s 10ms/step - loss: 0.5039 - accuracy: 0.7567 - val_loss: 0.3901 - val_accuracy: 0.8250\n",
            "Epoch 2/10\n",
            "2500/2500 [==============================] - 17s 7ms/step - loss: 0.2836 - accuracy: 0.8941 - val_loss: 0.3133 - val_accuracy: 0.8700\n",
            "Epoch 3/10\n",
            "2500/2500 [==============================] - 17s 7ms/step - loss: 0.2264 - accuracy: 0.9191 - val_loss: 0.2979 - val_accuracy: 0.8750\n",
            "Epoch 4/10\n",
            "2500/2500 [==============================] - 17s 7ms/step - loss: 0.1959 - accuracy: 0.9307 - val_loss: 0.2343 - val_accuracy: 0.8900\n",
            "Epoch 5/10\n",
            "2500/2500 [==============================] - 18s 7ms/step - loss: 0.1727 - accuracy: 0.9396 - val_loss: 0.2326 - val_accuracy: 0.9050\n",
            "Epoch 6/10\n",
            "2500/2500 [==============================] - 18s 7ms/step - loss: 0.1528 - accuracy: 0.9468 - val_loss: 0.3580 - val_accuracy: 0.8550\n",
            "Epoch 7/10\n",
            "2500/2500 [==============================] - 18s 7ms/step - loss: 0.1404 - accuracy: 0.9528 - val_loss: 0.2443 - val_accuracy: 0.9000\n",
            "Epoch 8/10\n",
            "2500/2500 [==============================] - 18s 7ms/step - loss: 0.1306 - accuracy: 0.9552 - val_loss: 0.3297 - val_accuracy: 0.8650\n",
            "Epoch 9/10\n",
            "2500/2500 [==============================] - 17s 7ms/step - loss: 0.1152 - accuracy: 0.9632 - val_loss: 0.3406 - val_accuracy: 0.8650\n",
            "Epoch 10/10\n",
            "2500/2500 [==============================] - 17s 7ms/step - loss: 0.1068 - accuracy: 0.9645 - val_loss: 0.4240 - val_accuracy: 0.8850\n"
          ],
          "name": "stdout"
        }
      ]
    },
    {
      "cell_type": "code",
      "metadata": {
        "id": "Y8SgQrbJW1RS",
        "colab_type": "code",
        "colab": {}
      },
      "source": [
        ""
      ],
      "execution_count": 0,
      "outputs": []
    }
  ]
}