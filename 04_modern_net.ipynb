{
 "cells": [
  {
   "cell_type": "markdown",
   "metadata": {},
   "source": [
    "# Modern Net"
   ]
  },
  {
   "cell_type": "code",
   "execution_count": 1,
   "metadata": {},
   "outputs": [],
   "source": [
    "import tensorflow as tf"
   ]
  },
  {
   "cell_type": "code",
   "execution_count": 2,
   "metadata": {},
   "outputs": [
    {
     "name": "stdout",
     "output_type": "stream",
     "text": [
      "Populating the interactive namespace from numpy and matplotlib\n"
     ]
    }
   ],
   "source": [
    "%pylab inline"
   ]
  },
  {
   "cell_type": "code",
   "execution_count": 3,
   "metadata": {},
   "outputs": [],
   "source": [
    "(x_train, y_train), (x_test, y_test) = tf.keras.datasets.mnist.load_data()\n",
    "x_train = x_train / 255\n",
    "x_test = x_test / 255"
   ]
  },
  {
   "cell_type": "code",
   "execution_count": 4,
   "metadata": {},
   "outputs": [],
   "source": [
    "model = tf.keras.models.Sequential([\n",
    "    tf.keras.layers.Flatten(),\n",
    "    tf.keras.layers.Dense(28*28, activation='relu'),\n",
    "    tf.keras.layers.Dense(300, activation='relu'),\n",
    "    tf.keras.layers.Dense(300, activation='relu'),\n",
    "    tf.keras.layers.Dropout(0.3),\n",
    "    tf.keras.layers.Dense(10, activation='softmax')\n",
    "])"
   ]
  },
  {
   "cell_type": "code",
   "execution_count": 5,
   "metadata": {},
   "outputs": [],
   "source": [
    "model.compile(\n",
    "    optimizer=tf.keras.optimizers.SGD(lr=0.01),\n",
    "    loss=tf.keras.losses.sparse_categorical_crossentropy,\n",
    "    metrics=['accuracy']\n",
    ")"
   ]
  },
  {
   "cell_type": "code",
   "execution_count": 6,
   "metadata": {},
   "outputs": [
    {
     "name": "stdout",
     "output_type": "stream",
     "text": [
      "Train on 60000 samples, validate on 10000 samples\n",
      "Epoch 1/10\n",
      "60000/60000 [==============================] - 12s 201us/sample - loss: 0.6152 - accuracy: 0.8290 - val_loss: 0.2665 - val_accuracy: 0.9241\n",
      "Epoch 2/10\n",
      "60000/60000 [==============================] - 12s 194us/sample - loss: 0.2628 - accuracy: 0.9237 - val_loss: 0.1975 - val_accuracy: 0.9413\n",
      "Epoch 3/10\n",
      "60000/60000 [==============================] - 12s 201us/sample - loss: 0.2018 - accuracy: 0.9414 - val_loss: 0.1568 - val_accuracy: 0.9522\n",
      "Epoch 4/10\n",
      "60000/60000 [==============================] - 13s 217us/sample - loss: 0.1640 - accuracy: 0.9520 - val_loss: 0.1359 - val_accuracy: 0.9580\n",
      "Epoch 5/10\n",
      "60000/60000 [==============================] - 15s 245us/sample - loss: 0.1400 - accuracy: 0.9588 - val_loss: 0.1227 - val_accuracy: 0.9639\n",
      "Epoch 6/10\n",
      "60000/60000 [==============================] - 12s 204us/sample - loss: 0.1198 - accuracy: 0.9654 - val_loss: 0.1095 - val_accuracy: 0.9666\n",
      "Epoch 7/10\n",
      "60000/60000 [==============================] - 13s 212us/sample - loss: 0.1060 - accuracy: 0.9691 - val_loss: 0.1006 - val_accuracy: 0.9693\n",
      "Epoch 8/10\n",
      "60000/60000 [==============================] - 13s 213us/sample - loss: 0.0933 - accuracy: 0.9728 - val_loss: 0.0920 - val_accuracy: 0.9709\n",
      "Epoch 9/10\n",
      "60000/60000 [==============================] - 14s 225us/sample - loss: 0.0829 - accuracy: 0.9761 - val_loss: 0.0856 - val_accuracy: 0.9733\n",
      "Epoch 10/10\n",
      "60000/60000 [==============================] - 13s 219us/sample - loss: 0.0744 - accuracy: 0.9782 - val_loss: 0.0802 - val_accuracy: 0.9752\n"
     ]
    }
   ],
   "source": [
    "history = model.fit(x_train, y_train,\n",
    "                    validation_data=(x_test, y_test),\n",
    "                    epochs=10)"
   ]
  },
  {
   "cell_type": "code",
   "execution_count": 7,
   "metadata": {},
   "outputs": [
    {
     "data": {
      "text/plain": [
       "<matplotlib.legend.Legend at 0x15f19b128>"
      ]
     },
     "execution_count": 7,
     "metadata": {},
     "output_type": "execute_result"
    },
    {
     "data": {
      "image/png": "[encoded data removed]",
      "text/plain": [
       "<Figure size 432x288 with 1 Axes>"
      ]
     },
     "metadata": {
      "needs_background": "light"
     },
     "output_type": "display_data"
    }
   ],
   "source": [
    "plt.plot(history.history['loss'], label='loss')\n",
    "plt.plot(history.history['val_loss'], label='val loss')\n",
    "plt.legend()"
   ]
  },
  {
   "cell_type": "code",
   "execution_count": 8,
   "metadata": {},
   "outputs": [
    {
     "data": {
      "text/plain": [
       "<matplotlib.legend.Legend at 0x1305b3a20>"
      ]
     },
     "execution_count": 8,
     "metadata": {},
     "output_type": "execute_result"
    },
    {
     "data": {
      "image/png": "[encoded data removed]",
      "text/plain": [
       "<Figure size 432x288 with 1 Axes>"
      ]
     },
     "metadata": {
      "needs_background": "light"
     },
     "output_type": "display_data"
    }
   ],
   "source": [
    "plt.plot(history.history['accuracy'], label='accuracy')\n",
    "plt.plot(history.history['val_accuracy'], label='val accuracy')\n",
    "plt.legend()"
   ]
  }
 ],
 "metadata": {
  "kernelspec": {
   "display_name": "Python 2",
   "language": "python",
   "name": "python2"
  },
  "language_info": {
   "codemirror_mode": {
    "name": "ipython",
    "version": 3
   },
   "file_extension": ".py",
   "mimetype": "text/x-python",
   "name": "python",
   "nbconvert_exporter": "python",
   "pygments_lexer": "ipython3",
   "version": "3.7.1"
  }
 },
 "nbformat": 4,
 "nbformat_minor": 1
}
