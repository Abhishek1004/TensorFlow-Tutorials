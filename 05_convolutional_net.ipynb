{
  "nbformat": 4,
  "nbformat_minor": 0,
  "metadata": {
    "kernelspec": {
      "name": "python3",
      "display_name": "Python 3"
    },
    "colab": {
      "name": "Convolutional neural networks in TensorFlow 2.0.ipynb",
      "provenance": [],
      "collapsed_sections": []
    },
    "accelerator": "GPU"
  },
  "cells": [
    {
      "cell_type": "markdown",
      "metadata": {
        "id": "0EpHM0dOSZKp",
        "colab_type": "text"
      },
      "source": [
        "# Convolutional Net"
      ]
    },
    {
      "cell_type": "code",
      "metadata": {
        "id": "PhEA4rpZ1DDg",
        "colab_type": "code",
        "colab": {
          "base_uri": "https://localhost:8080/",
          "height": 34
        },
        "outputId": "31eb879a-00aa-4a0c-cb8b-b0b173c83f68"
      },
      "source": [
        "%tensorflow_version 2.x"
      ],
      "execution_count": 1,
      "outputs": [
        {
          "output_type": "stream",
          "text": [
            "TensorFlow 2.x selected.\n"
          ],
          "name": "stdout"
        }
      ]
    },
    {
      "cell_type": "code",
      "metadata": {
        "id": "j3SMvaI3SkYo",
        "colab_type": "code",
        "outputId": "d0783daa-ca13-4d4c-dfcc-381c03bc2875",
        "colab": {
          "base_uri": "https://localhost:8080/",
          "height": 34
        }
      },
      "source": [
        "%pylab inline"
      ],
      "execution_count": 2,
      "outputs": [
        {
          "output_type": "stream",
          "text": [
            "Populating the interactive namespace from numpy and matplotlib\n"
          ],
          "name": "stdout"
        }
      ]
    },
    {
      "cell_type": "code",
      "metadata": {
        "id": "HWxPyG1rSWS1",
        "colab_type": "code",
        "colab": {}
      },
      "source": [
        "import tensorflow asi tf"
      ],
      "execution_count": 0,
      "outputs": []
    },
    {
      "cell_type": "code",
      "metadata": {
        "id": "ftoodtdoS2hr",
        "colab_type": "code",
        "colab": {}
      },
      "source": [
        "(x_train, y_train), (x_test, y_test) = tf.keras.datasets.mnist.load_data()"
      ],
      "execution_count": 0,
      "outputs": []
    },
    {
      "cell_type": "code",
      "metadata": {
        "id": "LlasfmQyVgHV",
        "colab_type": "code",
        "colab": {}
      },
      "source": [
        "x_train = (x_train / 255).reshape((60000, 28, 28, 1))\n",
        "x_test = (x_test / 255).reshape((10000, 28, 28, 1))"
      ],
      "execution_count": 0,
      "outputs": []
    },
    {
      "cell_type": "code",
      "metadata": {
        "id": "1dXNTKCxTgoX",
        "colab_type": "code",
        "colab": {}
      },
      "source": [
        "model = tf.keras.models.Sequential([\n",
        "  tf.keras.layers.Conv2D(32, (3, 3), padding='same', activation='relu',\n",
        "                     input_shape=x_train.shape[1:]),\n",
        "  tf.keras.layers.Conv2D(64, (3, 3), activation='relu'),\n",
        "  tf.keras.layers.MaxPooling2D(pool_size=(2, 2)),\n",
        "  tf.keras.layers.Dropout(0.25),\n",
        "\n",
        "  tf.keras.layers.Flatten(),\n",
        "  tf.keras.layers.Dense(128, activation='relu'),\n",
        "  tf.keras.layers.Dropout(0.5),\n",
        "  tf.keras.layers.Dense(10, activation='softmax'),\n",
        "])"
      ],
      "execution_count": 0,
      "outputs": []
    },
    {
      "cell_type": "code",
      "metadata": {
        "id": "u0VIhv3HVG1r",
        "colab_type": "code",
        "colab": {}
      },
      "source": [
        "model.compile(loss=tf.keras.losses.sparse_categorical_crossentropy,\n",
        "              optimizer=tf.keras.optimizers.Adam(),\n",
        "              metrics=['accuracy'])"
      ],
      "execution_count": 0,
      "outputs": []
    },
    {
      "cell_type": "code",
      "metadata": {
        "id": "aXwyS0oRVOas",
        "colab_type": "code",
        "outputId": "57c53cf5-19e6-44bd-b732-412db8d79ced",
        "colab": {
          "base_uri": "https://localhost:8080/",
          "height": 374
        }
      },
      "source": [
        "history = model.fit(x_train, y_train,\n",
        "                    epochs=10,\n",
        "                    batch_size=128,\n",
        "                    validation_data=(x_test, y_test))"
      ],
      "execution_count": 8,
      "outputs": [
        {
          "output_type": "stream",
          "text": [
            "Train on 60000 samples, validate on 10000 samples\n",
            "Epoch 1/10\n",
            "60000/60000 [==============================] - 7s 122us/sample - loss: 0.2487 - accuracy: 0.9245 - val_loss: 0.0590 - val_accuracy: 0.9810\n",
            "Epoch 2/10\n",
            "60000/60000 [==============================] - 5s 78us/sample - loss: 0.0858 - accuracy: 0.9746 - val_loss: 0.0381 - val_accuracy: 0.9867\n",
            "Epoch 3/10\n",
            "60000/60000 [==============================] - 5s 78us/sample - loss: 0.0632 - accuracy: 0.9806 - val_loss: 0.0300 - val_accuracy: 0.9894\n",
            "Epoch 4/10\n",
            "60000/60000 [==============================] - 5s 76us/sample - loss: 0.0553 - accuracy: 0.9828 - val_loss: 0.0301 - val_accuracy: 0.9901\n",
            "Epoch 5/10\n",
            "60000/60000 [==============================] - 5s 77us/sample - loss: 0.0442 - accuracy: 0.9863 - val_loss: 0.0281 - val_accuracy: 0.9916\n",
            "Epoch 6/10\n",
            "60000/60000 [==============================] - 5s 78us/sample - loss: 0.0421 - accuracy: 0.9865 - val_loss: 0.0316 - val_accuracy: 0.9897\n",
            "Epoch 7/10\n",
            "60000/60000 [==============================] - 5s 79us/sample - loss: 0.0348 - accuracy: 0.9890 - val_loss: 0.0267 - val_accuracy: 0.9909\n",
            "Epoch 8/10\n",
            "60000/60000 [==============================] - 5s 77us/sample - loss: 0.0317 - accuracy: 0.9902 - val_loss: 0.0312 - val_accuracy: 0.9908\n",
            "Epoch 9/10\n",
            "60000/60000 [==============================] - 5s 78us/sample - loss: 0.0302 - accuracy: 0.9900 - val_loss: 0.0310 - val_accuracy: 0.9910\n",
            "Epoch 10/10\n",
            "60000/60000 [==============================] - 5s 78us/sample - loss: 0.0274 - accuracy: 0.9912 - val_loss: 0.0305 - val_accuracy: 0.9915\n"
          ],
          "name": "stdout"
        }
      ]
    },
    {
      "cell_type": "code",
      "metadata": {
        "id": "80P8tYkmSWTE",
        "colab_type": "code",
        "outputId": "b8b4fff2-8587-4dbb-8d01-91ba02c069d1",
        "colab": {
          "base_uri": "https://localhost:8080/",
          "height": 282
        }
      },
      "source": [
        "plot(history.history['accuracy'], label='accuracy')\n",
        "plot(history.history['val_accuracy'], label='val accuracy')\n",
        "legend()"
      ],
      "execution_count": 9,
      "outputs": [
        {
          "output_type": "execute_result",
          "data": {
            "text/plain": [
              "<matplotlib.legend.Legend at 0x7feac419f710>"
            ]
          },
          "metadata": {
            "tags": []
          },
          "execution_count": 9
        },
        {
          "output_type": "display_data",
          "data": {
            "image/png": "[encoded data removed]",
            "text/plain": [
              "<Figure size 432x288 with 1 Axes>"
            ]
          },
          "metadata": {
            "tags": []
          }
        }
      ]
    },
    {
      "cell_type": "code",
      "metadata": {
        "id": "f_chFaFM1ZkB",
        "colab_type": "code",
        "colab": {
          "base_uri": "https://localhost:8080/",
          "height": 282
        },
        "outputId": "c64338cb-4317-4400-b51b-4f5ff6ae2802"
      },
      "source": [
        "plot(history.history['loss'], label='loss')\n",
        "plot(history.history['val_loss'], label='val loss')\n",
        "legend()"
      ],
      "execution_count": 10,
      "outputs": [
        {
          "output_type": "execute_result",
          "data": {
            "text/plain": [
              "<matplotlib.legend.Legend at 0x7feac40cf630>"
            ]
          },
          "metadata": {
            "tags": []
          },
          "execution_count": 10
        },
        {
          "output_type": "display_data",
          "data": {
            "image/png": "[encoded data removed]",
            "text/plain": [
              "<Figure size 432x288 with 1 Axes>"
            ]
          },
          "metadata": {
            "tags": []
          }
        }
      ]
    }
  ]
}