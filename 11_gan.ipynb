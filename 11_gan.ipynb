{
  "nbformat": 4,
  "nbformat_minor": 0,
  "metadata": {
    "colab": {
      "name": "GAN.ipynb",
      "provenance": []
    },
    "kernelspec": {
      "name": "python3",
      "display_name": "Python 3"
    },
    "accelerator": "GPU"
  },
  "cells": [
    {
      "cell_type": "markdown",
      "metadata": {
        "id": "G47QPauop_GP",
        "colab_type": "text"
      },
      "source": [
        "# Generative Adversarial Networks\n",
        "\n",
        "Inspired by https://rickwierenga.com/blog/s4tf/s4tf-gan.html and https://www.tensorflow.org/tutorials/generative/dcgan"
      ]
    },
    {
      "cell_type": "code",
      "metadata": {
        "id": "olPfV27Rp4SK",
        "colab_type": "code",
        "colab": {
          "base_uri": "https://localhost:8080/",
          "height": 34
        },
        "outputId": "3747de9c-e751-488f-8f6d-5b7310d425b0"
      },
      "source": [
        "%tensorflow_version 2.x"
      ],
      "execution_count": 1,
      "outputs": [
        {
          "output_type": "stream",
          "text": [
            "TensorFlow 2.x selected.\n"
          ],
          "name": "stdout"
        }
      ]
    },
    {
      "cell_type": "code",
      "metadata": {
        "id": "nJhUznP8r_fw",
        "colab_type": "code",
        "colab": {
          "base_uri": "https://localhost:8080/",
          "height": 34
        },
        "outputId": "e5ae5a09-07ef-403a-b6cc-0273a3da6a51"
      },
      "source": [
        "%pylab inline"
      ],
      "execution_count": 2,
      "outputs": [
        {
          "output_type": "stream",
          "text": [
            "Populating the interactive namespace from numpy and matplotlib\n"
          ],
          "name": "stdout"
        }
      ]
    },
    {
      "cell_type": "code",
      "metadata": {
        "id": "FAcHXngSsAWa",
        "colab_type": "code",
        "colab": {}
      },
      "source": [
        "import tensorflow as tf"
      ],
      "execution_count": 0,
      "outputs": []
    },
    {
      "cell_type": "code",
      "metadata": {
        "id": "aSftNWRSsBVj",
        "colab_type": "code",
        "colab": {}
      },
      "source": [
        "(x_train, _),(x_test, _) = tf.keras.datasets.mnist.load_data()\n",
        "x_train = x_train.reshape(60000, 28, 28, 1).astype('float32')\n",
        "x_train, x_test = x_train / 255.0, x_test / 255.0"
      ],
      "execution_count": 0,
      "outputs": []
    },
    {
      "cell_type": "code",
      "metadata": {
        "id": "qxgRw9UCsDlw",
        "colab_type": "code",
        "colab": {}
      },
      "source": [
        "generator = tf.keras.Sequential([\n",
        "  tf.keras.layers.Dense(7*7*256, use_bias=False, input_shape=(100,)),\n",
        "  tf.keras.layers.BatchNormalization(),\n",
        "  tf.keras.layers.LeakyReLU(),\n",
        "\n",
        "  tf.keras.layers.Reshape((7, 7, 256)),\n",
        "\n",
        "  tf.keras.layers.Conv2DTranspose(128, (5, 5), strides=(1, 1), padding='same', use_bias=False),\n",
        "  tf.keras.layers.BatchNormalization(),\n",
        "  tf.keras.layers.LeakyReLU(),\n",
        "\n",
        "  tf.keras.layers.Conv2DTranspose(64, (5, 5), strides=(2, 2), padding='same', use_bias=False),\n",
        "  tf.keras.layers.BatchNormalization(),\n",
        "  tf.keras.layers.LeakyReLU(),\n",
        "\n",
        "  tf.keras.layers.Conv2DTranspose(1, (5, 5), strides=(2, 2), padding='same', use_bias=False, activation='tanh')\n",
        "])"
      ],
      "execution_count": 0,
      "outputs": []
    },
    {
      "cell_type": "code",
      "metadata": {
        "id": "9wznZntmsY0f",
        "colab_type": "code",
        "colab": {}
      },
      "source": [
        "discriminator = tf.keras.Sequential([\n",
        "  tf.keras.layers.Conv2D(64, (5, 5), strides=(2, 2), padding='same',\n",
        "                                  input_shape=[28, 28, 1]),\n",
        "  tf.keras.layers.LeakyReLU(),\n",
        "  tf.keras.layers.Dropout(0.3),\n",
        "\n",
        "  tf.keras.layers.Conv2D(128, (5, 5), strides=(2, 2), padding='same'),\n",
        "  tf.keras.layers.LeakyReLU(),\n",
        "  tf.keras.layers.Dropout(0.3),\n",
        "\n",
        "  tf.keras.layers.Flatten(),\n",
        "  tf.keras.layers.Dense(1),\n",
        "])"
      ],
      "execution_count": 0,
      "outputs": []
    },
    {
      "cell_type": "code",
      "metadata": {
        "id": "9xZcO34_t6qq",
        "colab_type": "code",
        "colab": {}
      },
      "source": [
        "cross_entropy = tf.keras.losses.BinaryCrossentropy(from_logits=True)"
      ],
      "execution_count": 0,
      "outputs": []
    },
    {
      "cell_type": "code",
      "metadata": {
        "id": "f2dJTDjjstma",
        "colab_type": "code",
        "colab": {}
      },
      "source": [
        "def generator_loss(fake_output):\n",
        "    return cross_entropy(tf.ones_like(fake_output), fake_output)"
      ],
      "execution_count": 0,
      "outputs": []
    },
    {
      "cell_type": "code",
      "metadata": {
        "id": "J6izwGPls46X",
        "colab_type": "code",
        "colab": {}
      },
      "source": [
        "def discriminator_loss(real_output, fake_output):\n",
        "    real_loss = cross_entropy(tf.ones_like(real_output), real_output)\n",
        "    fake_loss = cross_entropy(tf.zeros_like(fake_output), fake_output)\n",
        "    total_loss = real_loss + fake_loss\n",
        "    return total_loss"
      ],
      "execution_count": 0,
      "outputs": []
    },
    {
      "cell_type": "code",
      "metadata": {
        "id": "QV869C6Ts8Zk",
        "colab_type": "code",
        "colab": {}
      },
      "source": [
        "generator_optimizer = tf.keras.optimizers.Adam(1e-4)\n",
        "discriminator_optimizer = tf.keras.optimizers.Adam(1e-4)"
      ],
      "execution_count": 0,
      "outputs": []
    },
    {
      "cell_type": "code",
      "metadata": {
        "id": "Abr8fL1ttb_P",
        "colab_type": "code",
        "colab": {}
      },
      "source": [
        "noise_dim = 100"
      ],
      "execution_count": 0,
      "outputs": []
    },
    {
      "cell_type": "code",
      "metadata": {
        "id": "ettk7r99s-bq",
        "colab_type": "code",
        "colab": {}
      },
      "source": [
        "# Notice the use of `tf.function`\n",
        "# This annotation causes the function to be \"compiled\".\n",
        "@tf.function\n",
        "def train_step(images):\n",
        "    noise = tf.random.normal([256, noise_dim])\n",
        "\n",
        "    with tf.GradientTape() as gen_tape, tf.GradientTape() as disc_tape:\n",
        "      generated_images = generator(noise, training=True)\n",
        "\n",
        "      real_output = discriminator(images, training=True)\n",
        "      fake_output = discriminator(generated_images, training=True)\n",
        "\n",
        "      gen_loss = generator_loss(fake_output)\n",
        "      disc_loss = discriminator_loss(real_output, fake_output)\n",
        "\n",
        "    gradients_of_generator = gen_tape.gradient(gen_loss, generator.trainable_variables)\n",
        "    gradients_of_discriminator = disc_tape.gradient(disc_loss, discriminator.trainable_variables)\n",
        "\n",
        "    generator_optimizer.apply_gradients(zip(gradients_of_generator, generator.trainable_variables))\n",
        "    discriminator_optimizer.apply_gradients(zip(gradients_of_discriminator, discriminator.trainable_variables))"
      ],
      "execution_count": 0,
      "outputs": []
    },
    {
      "cell_type": "code",
      "metadata": {
        "id": "KQjUn-_TtBn0",
        "colab_type": "code",
        "colab": {}
      },
      "source": [
        "def train(dataset, epochs):\n",
        "  for epoch in range(epochs):\n",
        "    start = time.time()\n",
        "\n",
        "    for image_batch in dataset:\n",
        "      train_step(image_batch)\n",
        "\n",
        "    print ('Time for epoch {} is {} sec'.format(epoch + 1, time.time()-start))"
      ],
      "execution_count": 0,
      "outputs": []
    },
    {
      "cell_type": "code",
      "metadata": {
        "id": "6Rng8pkEtDGj",
        "colab_type": "code",
        "colab": {
          "base_uri": "https://localhost:8080/",
          "height": 867
        },
        "outputId": "e2addf54-d7ba-4a30-cbef-f597f50834ac"
      },
      "source": [
        "train_dataset = tf.data.Dataset.from_tensor_slices(x_train).shuffle(60000).batch(256)\n",
        "train(train_dataset, 50)"
      ],
      "execution_count": 14,
      "outputs": [
        {
          "output_type": "stream",
          "text": [
            "Time for epoch 1 is 14.506664276123047 sec\n",
            "Time for epoch 2 is 10.434206485748291 sec\n",
            "Time for epoch 3 is 10.553087711334229 sec\n",
            "Time for epoch 4 is 10.845302820205688 sec\n",
            "Time for epoch 5 is 10.979724645614624 sec\n",
            "Time for epoch 6 is 10.802932977676392 sec\n",
            "Time for epoch 7 is 10.604331493377686 sec\n",
            "Time for epoch 8 is 10.476471662521362 sec\n",
            "Time for epoch 9 is 10.43315315246582 sec\n",
            "Time for epoch 10 is 10.44762110710144 sec\n",
            "Time for epoch 11 is 10.545029878616333 sec\n",
            "Time for epoch 12 is 10.663335084915161 sec\n",
            "Time for epoch 13 is 10.670878648757935 sec\n",
            "Time for epoch 14 is 10.644028186798096 sec\n",
            "Time for epoch 15 is 10.627994775772095 sec\n",
            "Time for epoch 16 is 10.557690382003784 sec\n",
            "Time for epoch 17 is 10.570878982543945 sec\n",
            "Time for epoch 18 is 10.575762271881104 sec\n",
            "Time for epoch 19 is 10.558700799942017 sec\n",
            "Time for epoch 20 is 10.574848651885986 sec\n",
            "Time for epoch 21 is 10.602961301803589 sec\n",
            "Time for epoch 22 is 10.58772087097168 sec\n",
            "Time for epoch 23 is 10.61405634880066 sec\n",
            "Time for epoch 24 is 10.600014209747314 sec\n",
            "Time for epoch 25 is 10.612587213516235 sec\n",
            "Time for epoch 26 is 10.622422933578491 sec\n",
            "Time for epoch 27 is 10.625596284866333 sec\n",
            "Time for epoch 28 is 10.629643440246582 sec\n",
            "Time for epoch 29 is 10.604242086410522 sec\n",
            "Time for epoch 30 is 10.612414360046387 sec\n",
            "Time for epoch 31 is 10.605068683624268 sec\n",
            "Time for epoch 32 is 10.604929447174072 sec\n",
            "Time for epoch 33 is 10.60091257095337 sec\n",
            "Time for epoch 34 is 10.588635683059692 sec\n",
            "Time for epoch 35 is 10.58759593963623 sec\n",
            "Time for epoch 36 is 10.598377704620361 sec\n",
            "Time for epoch 37 is 10.586515426635742 sec\n",
            "Time for epoch 38 is 10.604149103164673 sec\n",
            "Time for epoch 39 is 10.63605523109436 sec\n",
            "Time for epoch 40 is 10.614613771438599 sec\n",
            "Time for epoch 41 is 10.630008935928345 sec\n",
            "Time for epoch 42 is 10.645159482955933 sec\n",
            "Time for epoch 43 is 10.61833119392395 sec\n",
            "Time for epoch 44 is 10.616314888000488 sec\n",
            "Time for epoch 45 is 10.623591899871826 sec\n",
            "Time for epoch 46 is 10.62045431137085 sec\n",
            "Time for epoch 47 is 10.670739650726318 sec\n",
            "Time for epoch 48 is 10.650978088378906 sec\n",
            "Time for epoch 49 is 10.622550010681152 sec\n",
            "Time for epoch 50 is 10.610715866088867 sec\n"
          ],
          "name": "stdout"
        }
      ]
    },
    {
      "cell_type": "code",
      "metadata": {
        "id": "Ru1IBVIxtTLw",
        "colab_type": "code",
        "colab": {
          "base_uri": "https://localhost:8080/",
          "height": 421
        },
        "outputId": "54c2e6bc-e78b-4d02-a953-f8214c5ab658"
      },
      "source": [
        "z = np.random.random((1, 100))\n",
        "img = generator(z)\n",
        "print(img.shape)\n",
        "imshow(img[0, :, :, 0])"
      ],
      "execution_count": 15,
      "outputs": [
        {
          "output_type": "stream",
          "text": [
            "WARNING:tensorflow:Layer dense is casting an input tensor from dtype float64 to the layer's dtype of float32, which is new behavior in TensorFlow 2.  The layer has dtype float32 because it's dtype defaults to floatx.\n",
            "\n",
            "If you intended to run this layer in float32, you can safely ignore this warning. If in doubt, this warning is likely only an issue if you are porting a TensorFlow 1.X model to TensorFlow 2.\n",
            "\n",
            "To change all layers to have dtype float64 by default, call `tf.keras.backend.set_floatx('float64')`. To change just this layer, pass dtype='float64' to the layer constructor. If you are the author of this layer, you can disable autocasting by passing autocast=False to the base Layer constructor.\n",
            "\n",
            "(1, 28, 28, 1)\n"
          ],
          "name": "stdout"
        },
        {
          "output_type": "execute_result",
          "data": {
            "text/plain": [
              "<matplotlib.image.AxesImage at 0x7fc980105828>"
            ]
          },
          "metadata": {
            "tags": []
          },
          "execution_count": 15
        },
        {
          "output_type": "display_data",
          "data": {
            "image/png": "[encoded data removed]",
            "text/plain": [
              "<Figure size 432x288 with 1 Axes>"
            ]
          },
          "metadata": {
            "tags": []
          }
        }
      ]
    },
    {
      "cell_type": "code",
      "metadata": {
        "id": "0MV2Oyofw6FQ",
        "colab_type": "code",
        "colab": {
          "base_uri": "https://localhost:8080/",
          "height": 299
        },
        "outputId": "b64b6873-a88f-4cdd-8c15-aaa20ff2ba41"
      },
      "source": [
        "z = np.random.random((1, 100))\n",
        "img = generator(z)\n",
        "print(img.shape)\n",
        "imshow(img[0, :, :, 0])"
      ],
      "execution_count": 16,
      "outputs": [
        {
          "output_type": "stream",
          "text": [
            "(1, 28, 28, 1)\n"
          ],
          "name": "stdout"
        },
        {
          "output_type": "execute_result",
          "data": {
            "text/plain": [
              "<matplotlib.image.AxesImage at 0x7fc980022400>"
            ]
          },
          "metadata": {
            "tags": []
          },
          "execution_count": 16
        },
        {
          "output_type": "display_data",
          "data": {
            "image/png": "[encoded data removed]",
            "text/plain": [
              "<Figure size 432x288 with 1 Axes>"
            ]
          },
          "metadata": {
            "tags": []
          }
        }
      ]
    },
    {
      "cell_type": "code",
      "metadata": {
        "id": "Fy1-06zuxBW-",
        "colab_type": "code",
        "colab": {
          "base_uri": "https://localhost:8080/",
          "height": 299
        },
        "outputId": "2e53c785-a0fc-4050-ad0c-1cc97979840e"
      },
      "source": [
        "z = np.random.random((1, 100))\n",
        "img = generator(z)\n",
        "print(img.shape)\n",
        "imshow(img[0, :, :, 0])"
      ],
      "execution_count": 17,
      "outputs": [
        {
          "output_type": "stream",
          "text": [
            "(1, 28, 28, 1)\n"
          ],
          "name": "stdout"
        },
        {
          "output_type": "execute_result",
          "data": {
            "text/plain": [
              "<matplotlib.image.AxesImage at 0x7fc9974b54e0>"
            ]
          },
          "metadata": {
            "tags": []
          },
          "execution_count": 17
        },
        {
          "output_type": "display_data",
          "data": {
            "image/png": "[encoded data removed]",
            "text/plain": [
              "<Figure size 432x288 with 1 Axes>"
            ]
          },
          "metadata": {
            "tags": []
          }
        }
      ]
    }
  ]
}