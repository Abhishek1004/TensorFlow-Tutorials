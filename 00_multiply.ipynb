{
 "cells": [
  {
   "cell_type": "code",
   "execution_count": 1,
   "metadata": {},
   "outputs": [],
   "source": [
    "import tensorflow as tf"
   ]
  },
  {
   "cell_type": "markdown",
   "metadata": {},
   "source": [
    "With eager execution enabled by default, we can use eager tensors and multiply them directly"
   ]
  },
  {
   "cell_type": "code",
   "execution_count": 2,
   "metadata": {},
   "outputs": [
    {
     "name": "stdout",
     "output_type": "stream",
     "text": [
      "[[7]] should equal [[7]]\n"
     ]
    }
   ],
   "source": [
    "a = tf.constant([1], shape=[1, 1])\n",
    "b = tf.constant([7], shape=[1, 1])\n",
    "c = tf.matmul(a, b)\n",
    "print(c.numpy(), 'should equal [[7]]')"
   ]
  },
  {
   "cell_type": "code",
   "execution_count": 3,
   "metadata": {},
   "outputs": [
    {
     "name": "stdout",
     "output_type": "stream",
     "text": [
      "[[9]] should equal [[9]]\n"
     ]
    }
   ],
   "source": [
    "a = tf.constant([3], shape=[1, 1])\n",
    "b = tf.constant([3], shape=[1, 1])\n",
    "c = tf.matmul(a, b)\n",
    "print(c.numpy(), 'should equal [[9]]')"
   ]
  }
 ],
 "metadata": {
  "kernelspec": {
   "display_name": "Python 2",
   "language": "python",
   "name": "python2"
  },
  "language_info": {
   "codemirror_mode": {
    "name": "ipython",
    "version": 3
   },
   "file_extension": ".py",
   "mimetype": "text/x-python",
   "name": "python",
   "nbconvert_exporter": "python",
   "pygments_lexer": "ipython3",
   "version": "3.7.1"
  }
 },
 "nbformat": 4,
 "nbformat_minor": 1
}
