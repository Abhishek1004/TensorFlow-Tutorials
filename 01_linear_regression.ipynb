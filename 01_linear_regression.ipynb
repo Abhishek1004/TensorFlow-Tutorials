{
 "cells": [
  {
   "cell_type": "markdown",
   "metadata": {},
   "source": [
    "# Linear Regression"
   ]
  },
  {
   "cell_type": "code",
   "execution_count": 1,
   "metadata": {},
   "outputs": [],
   "source": [
    "import tensorflow as tf"
   ]
  },
  {
   "cell_type": "code",
   "execution_count": 2,
   "metadata": {},
   "outputs": [
    {
     "name": "stdout",
     "output_type": "stream",
     "text": [
      "Populating the interactive namespace from numpy and matplotlib\n"
     ]
    }
   ],
   "source": [
    "%pylab inline"
   ]
  },
  {
   "cell_type": "code",
   "execution_count": 3,
   "metadata": {},
   "outputs": [],
   "source": [
    "trX = np.linspace(-1, 1, 101)\n",
    "trY = 2 * trX + np.random.randn(*trX.shape) * 0.33"
   ]
  },
  {
   "cell_type": "code",
   "execution_count": 4,
   "metadata": {},
   "outputs": [
    {
     "data": {
      "text/plain": [
       "<matplotlib.collections.PathCollection at 0x144a1ab38>"
      ]
     },
     "execution_count": 4,
     "metadata": {},
     "output_type": "execute_result"
    },
    {
     "data": {
      "image/png": "[encoded data removed]",
      "text/plain": [
       "<Figure size 432x288 with 1 Axes>"
      ]
     },
     "metadata": {
      "needs_background": "light"
     },
     "output_type": "display_data"
    }
   ],
   "source": [
    "plt.scatter(trX, trY)"
   ]
  },
  {
   "cell_type": "code",
   "execution_count": 5,
   "metadata": {},
   "outputs": [],
   "source": [
    "model = tf.keras.models.Sequential([\n",
    "    tf.keras.layers.Dense(1),\n",
    "    tf.keras.layers.Dense(1)\n",
    "])"
   ]
  },
  {
   "cell_type": "code",
   "execution_count": 6,
   "metadata": {},
   "outputs": [],
   "source": [
    "model.compile(\n",
    "    optimizer=tf.keras.optimizers.SGD(lr=0.01),\n",
    "    loss=tf.keras.losses.MSE\n",
    ")"
   ]
  },
  {
   "cell_type": "code",
   "execution_count": 7,
   "metadata": {},
   "outputs": [
    {
     "name": "stdout",
     "output_type": "stream",
     "text": [
      "Train on 101 samples\n",
      "Epoch 1/100\n",
      "101/101 [==============================] - 0s 3ms/sample - loss: 1.5620\n",
      "Epoch 2/100\n",
      "101/101 [==============================] - 0s 68us/sample - loss: 1.5132\n",
      "Epoch 3/100\n",
      "101/101 [==============================] - 0s 67us/sample - loss: 1.4689\n",
      "Epoch 4/100\n",
      "101/101 [==============================] - 0s 98us/sample - loss: 1.4245\n",
      "Epoch 5/100\n",
      "101/101 [==============================] - 0s 91us/sample - loss: 1.3802\n",
      "Epoch 6/100\n",
      "101/101 [==============================] - 0s 121us/sample - loss: 1.3314\n",
      "Epoch 7/100\n",
      "101/101 [==============================] - 0s 105us/sample - loss: 1.2810\n",
      "Epoch 8/100\n",
      "101/101 [==============================] - 0s 98us/sample - loss: 1.2375\n",
      "Epoch 9/100\n",
      "101/101 [==============================] - 0s 107us/sample - loss: 1.1806\n",
      "Epoch 10/100\n",
      "101/101 [==============================] - 0s 95us/sample - loss: 1.1309\n",
      "Epoch 11/100\n",
      "101/101 [==============================] - 0s 136us/sample - loss: 1.0797\n",
      "Epoch 12/100\n",
      "101/101 [==============================] - 0s 115us/sample - loss: 1.0306\n",
      "Epoch 13/100\n",
      "101/101 [==============================] - 0s 117us/sample - loss: 0.9729\n",
      "Epoch 14/100\n",
      "101/101 [==============================] - 0s 125us/sample - loss: 0.9189\n",
      "Epoch 15/100\n",
      "101/101 [==============================] - 0s 279us/sample - loss: 0.8656\n",
      "Epoch 16/100\n",
      "101/101 [==============================] - 0s 155us/sample - loss: 0.8119\n",
      "Epoch 17/100\n",
      "101/101 [==============================] - 0s 143us/sample - loss: 0.7517\n",
      "Epoch 18/100\n",
      "101/101 [==============================] - 0s 180us/sample - loss: 0.6870\n",
      "Epoch 19/100\n",
      "101/101 [==============================] - 0s 118us/sample - loss: 0.6385\n",
      "Epoch 20/100\n",
      "101/101 [==============================] - 0s 280us/sample - loss: 0.5879\n",
      "Epoch 21/100\n",
      "101/101 [==============================] - 0s 202us/sample - loss: 0.5321\n",
      "Epoch 22/100\n",
      "101/101 [==============================] - 0s 168us/sample - loss: 0.4871\n",
      "Epoch 23/100\n",
      "101/101 [==============================] - 0s 192us/sample - loss: 0.4420\n",
      "Epoch 24/100\n",
      "101/101 [==============================] - 0s 185us/sample - loss: 0.4028\n",
      "Epoch 25/100\n",
      "101/101 [==============================] - 0s 241us/sample - loss: 0.3635\n",
      "Epoch 26/100\n",
      "101/101 [==============================] - 0s 238us/sample - loss: 0.3246\n",
      "Epoch 27/100\n",
      "101/101 [==============================] - 0s 164us/sample - loss: 0.2946\n",
      "Epoch 28/100\n",
      "101/101 [==============================] - 0s 157us/sample - loss: 0.2658\n",
      "Epoch 29/100\n",
      "101/101 [==============================] - ETA: 0s - loss: 0.250 - 0s 203us/sample - loss: 0.2441\n",
      "Epoch 30/100\n",
      "101/101 [==============================] - 0s 171us/sample - loss: 0.2222\n",
      "Epoch 31/100\n",
      "101/101 [==============================] - 0s 176us/sample - loss: 0.2045\n",
      "Epoch 32/100\n",
      "101/101 [==============================] - 0s 162us/sample - loss: 0.1876\n",
      "Epoch 33/100\n",
      "101/101 [==============================] - 0s 190us/sample - loss: 0.1742\n",
      "Epoch 34/100\n",
      "101/101 [==============================] - 0s 190us/sample - loss: 0.1635\n",
      "Epoch 35/100\n",
      "101/101 [==============================] - 0s 188us/sample - loss: 0.1534\n",
      "Epoch 36/100\n",
      "101/101 [==============================] - 0s 202us/sample - loss: 0.1426\n",
      "Epoch 37/100\n",
      "101/101 [==============================] - 0s 127us/sample - loss: 0.1340\n",
      "Epoch 38/100\n",
      "101/101 [==============================] - 0s 133us/sample - loss: 0.1276\n",
      "Epoch 39/100\n",
      "101/101 [==============================] - 0s 160us/sample - loss: 0.1216\n",
      "Epoch 40/100\n",
      "101/101 [==============================] - 0s 201us/sample - loss: 0.1163\n",
      "Epoch 41/100\n",
      "101/101 [==============================] - 0s 174us/sample - loss: 0.1125\n",
      "Epoch 42/100\n",
      "101/101 [==============================] - 0s 129us/sample - loss: 0.1091\n",
      "Epoch 43/100\n",
      "101/101 [==============================] - 0s 221us/sample - loss: 0.1071\n",
      "Epoch 44/100\n",
      "101/101 [==============================] - 0s 219us/sample - loss: 0.1046\n",
      "Epoch 45/100\n",
      "101/101 [==============================] - 0s 199us/sample - loss: 0.1037\n",
      "Epoch 46/100\n",
      "101/101 [==============================] - 0s 190us/sample - loss: 0.1022\n",
      "Epoch 47/100\n",
      "101/101 [==============================] - 0s 207us/sample - loss: 0.1001\n",
      "Epoch 48/100\n",
      "101/101 [==============================] - 0s 215us/sample - loss: 0.0983\n",
      "Epoch 49/100\n",
      "101/101 [==============================] - 0s 185us/sample - loss: 0.0985\n",
      "Epoch 50/100\n",
      "101/101 [==============================] - 0s 175us/sample - loss: 0.0972\n",
      "Epoch 51/100\n",
      "101/101 [==============================] - 0s 190us/sample - loss: 0.0972\n",
      "Epoch 52/100\n",
      "101/101 [==============================] - 0s 242us/sample - loss: 0.0963\n",
      "Epoch 53/100\n",
      "101/101 [==============================] - 0s 179us/sample - loss: 0.0959\n",
      "Epoch 54/100\n",
      "101/101 [==============================] - 0s 224us/sample - loss: 0.0962\n",
      "Epoch 55/100\n",
      "101/101 [==============================] - 0s 204us/sample - loss: 0.0956\n",
      "Epoch 56/100\n",
      "101/101 [==============================] - 0s 216us/sample - loss: 0.0954\n",
      "Epoch 57/100\n",
      "101/101 [==============================] - 0s 263us/sample - loss: 0.0955\n",
      "Epoch 58/100\n",
      "101/101 [==============================] - 0s 178us/sample - loss: 0.0955\n",
      "Epoch 59/100\n",
      "101/101 [==============================] - 0s 187us/sample - loss: 0.0955\n",
      "Epoch 60/100\n",
      "101/101 [==============================] - 0s 189us/sample - loss: 0.0956\n",
      "Epoch 61/100\n",
      "101/101 [==============================] - 0s 187us/sample - loss: 0.0957\n",
      "Epoch 62/100\n",
      "101/101 [==============================] - 0s 178us/sample - loss: 0.0953\n",
      "Epoch 63/100\n",
      "101/101 [==============================] - 0s 287us/sample - loss: 0.0952\n",
      "Epoch 64/100\n",
      "101/101 [==============================] - 0s 151us/sample - loss: 0.0954\n",
      "Epoch 65/100\n",
      "101/101 [==============================] - 0s 167us/sample - loss: 0.0954\n",
      "Epoch 66/100\n",
      "101/101 [==============================] - 0s 127us/sample - loss: 0.0954\n",
      "Epoch 67/100\n",
      "101/101 [==============================] - 0s 211us/sample - loss: 0.0953\n",
      "Epoch 68/100\n",
      "101/101 [==============================] - 0s 183us/sample - loss: 0.0954\n",
      "Epoch 69/100\n",
      "101/101 [==============================] - 0s 191us/sample - loss: 0.0954\n",
      "Epoch 70/100\n",
      "101/101 [==============================] - 0s 171us/sample - loss: 0.0955\n",
      "Epoch 71/100\n",
      "101/101 [==============================] - 0s 193us/sample - loss: 0.0950\n",
      "Epoch 72/100\n",
      "101/101 [==============================] - 0s 211us/sample - loss: 0.0953\n",
      "Epoch 73/100\n",
      "101/101 [==============================] - 0s 200us/sample - loss: 0.0953\n",
      "Epoch 74/100\n",
      "101/101 [==============================] - 0s 143us/sample - loss: 0.0951\n",
      "Epoch 75/100\n",
      "101/101 [==============================] - 0s 121us/sample - loss: 0.0953\n",
      "Epoch 76/100\n",
      "101/101 [==============================] - 0s 119us/sample - loss: 0.0954\n",
      "Epoch 77/100\n",
      "101/101 [==============================] - 0s 148us/sample - loss: 0.0951\n",
      "Epoch 78/100\n",
      "101/101 [==============================] - 0s 166us/sample - loss: 0.0954\n",
      "Epoch 79/100\n",
      "101/101 [==============================] - 0s 170us/sample - loss: 0.0952\n",
      "Epoch 80/100\n",
      "101/101 [==============================] - 0s 155us/sample - loss: 0.0952\n",
      "Epoch 81/100\n",
      "101/101 [==============================] - 0s 156us/sample - loss: 0.0951\n",
      "Epoch 82/100\n",
      "101/101 [==============================] - 0s 142us/sample - loss: 0.0950\n",
      "Epoch 83/100\n",
      "101/101 [==============================] - 0s 170us/sample - loss: 0.0950\n",
      "Epoch 84/100\n",
      "101/101 [==============================] - 0s 153us/sample - loss: 0.0953\n",
      "Epoch 85/100\n",
      "101/101 [==============================] - 0s 140us/sample - loss: 0.0950\n",
      "Epoch 86/100\n",
      "101/101 [==============================] - 0s 135us/sample - loss: 0.0951\n",
      "Epoch 87/100\n",
      "101/101 [==============================] - 0s 180us/sample - loss: 0.0952\n",
      "Epoch 88/100\n",
      "101/101 [==============================] - 0s 136us/sample - loss: 0.0953\n",
      "Epoch 89/100\n",
      "101/101 [==============================] - 0s 248us/sample - loss: 0.0953\n",
      "Epoch 90/100\n",
      "101/101 [==============================] - 0s 138us/sample - loss: 0.0955\n",
      "Epoch 91/100\n",
      "101/101 [==============================] - 0s 169us/sample - loss: 0.0950\n",
      "Epoch 92/100\n",
      "101/101 [==============================] - 0s 117us/sample - loss: 0.0951\n",
      "Epoch 93/100\n",
      "101/101 [==============================] - 0s 143us/sample - loss: 0.0954\n",
      "Epoch 94/100\n"
     ]
    },
    {
     "name": "stdout",
     "output_type": "stream",
     "text": [
      "101/101 [==============================] - 0s 168us/sample - loss: 0.0956\n",
      "Epoch 95/100\n",
      "101/101 [==============================] - 0s 159us/sample - loss: 0.0951\n",
      "Epoch 96/100\n",
      "101/101 [==============================] - 0s 153us/sample - loss: 0.0951\n",
      "Epoch 97/100\n",
      "101/101 [==============================] - 0s 111us/sample - loss: 0.0953\n",
      "Epoch 98/100\n",
      "101/101 [==============================] - 0s 101us/sample - loss: 0.0952\n",
      "Epoch 99/100\n",
      "101/101 [==============================] - 0s 78us/sample - loss: 0.0951\n",
      "Epoch 100/100\n",
      "101/101 [==============================] - 0s 94us/sample - loss: 0.0951\n"
     ]
    }
   ],
   "source": [
    "history = model.fit(trX, trY, epochs=100)"
   ]
  },
  {
   "cell_type": "code",
   "execution_count": 8,
   "metadata": {},
   "outputs": [
    {
     "data": {
      "text/plain": [
       "[<matplotlib.lines.Line2D at 0x14529bb38>]"
      ]
     },
     "execution_count": 8,
     "metadata": {},
     "output_type": "execute_result"
    },
    {
     "data": {
      "image/png": "[encoded data removed]",
      "text/plain": [
       "<Figure size 432x288 with 1 Axes>"
      ]
     },
     "metadata": {
      "needs_background": "light"
     },
     "output_type": "display_data"
    }
   ],
   "source": [
    "plt.plot(history.history['loss'])"
   ]
  },
  {
   "cell_type": "code",
   "execution_count": 9,
   "metadata": {},
   "outputs": [
    {
     "data": {
      "text/plain": [
       "<matplotlib.legend.Legend at 0x1453ad160>"
      ]
     },
     "execution_count": 9,
     "metadata": {},
     "output_type": "execute_result"
    },
    {
     "data": {
      "image/png": "[encoded data removed]",
      "text/plain": [
       "<Figure size 432x288 with 1 Axes>"
      ]
     },
     "metadata": {
      "needs_background": "light"
     },
     "output_type": "display_data"
    }
   ],
   "source": [
    "preds = model.predict(trX)\n",
    "plt.plot(trX, preds, '-r', label='predictions')\n",
    "plt.scatter(trX, trY, label='values')\n",
    "plt.legend()"
   ]
  }
 ],
 "metadata": {
  "kernelspec": {
   "display_name": "Python 2",
   "language": "python",
   "name": "python2"
  },
  "language_info": {
   "codemirror_mode": {
    "name": "ipython",
    "version": 3
   },
   "file_extension": ".py",
   "mimetype": "text/x-python",
   "name": "python",
   "nbconvert_exporter": "python",
   "pygments_lexer": "ipython3",
   "version": "3.7.1"
  }
 },
 "nbformat": 4,
 "nbformat_minor": 1
}
