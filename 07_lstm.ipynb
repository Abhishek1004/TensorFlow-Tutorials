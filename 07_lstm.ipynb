{
  "nbformat": 4,
  "nbformat_minor": 0,
  "metadata": {
    "colab": {
      "name": "LSTM.ipynb",
      "provenance": []
    },
    "kernelspec": {
      "name": "python3",
      "display_name": "Python 3"
    },
    "accelerator": "GPU"
  },
  "cells": [
    {
      "cell_type": "markdown",
      "metadata": {
        "id": "DElOK_LVQBmw",
        "colab_type": "text"
      },
      "source": [
        "# Long short-term memory\n",
        "\n",
        "Inspired by https://www.tensorflow.org/guide/keras/rnn"
      ]
    },
    {
      "cell_type": "code",
      "metadata": {
        "id": "zAlbiCVkPxTT",
        "colab_type": "code",
        "colab": {
          "base_uri": "https://localhost:8080/",
          "height": 34
        },
        "outputId": "523dbae7-5197-43aa-ffa8-4ef97e201a61"
      },
      "source": [
        "%tensorflow_version 2.x"
      ],
      "execution_count": 1,
      "outputs": [
        {
          "output_type": "stream",
          "text": [
            "TensorFlow 2.x selected.\n"
          ],
          "name": "stdout"
        }
      ]
    },
    {
      "cell_type": "code",
      "metadata": {
        "id": "41IzE0EMQNrC",
        "colab_type": "code",
        "colab": {
          "base_uri": "https://localhost:8080/",
          "height": 34
        },
        "outputId": "1713b179-2d8b-4356-8c19-7ee01913a23f"
      },
      "source": [
        "%pylab inline"
      ],
      "execution_count": 2,
      "outputs": [
        {
          "output_type": "stream",
          "text": [
            "Populating the interactive namespace from numpy and matplotlib\n"
          ],
          "name": "stdout"
        }
      ]
    },
    {
      "cell_type": "code",
      "metadata": {
        "id": "aglsiJuLQOv7",
        "colab_type": "code",
        "colab": {}
      },
      "source": [
        "import tensorflow as tf"
      ],
      "execution_count": 0,
      "outputs": []
    },
    {
      "cell_type": "code",
      "metadata": {
        "id": "qYeg56-0QvvM",
        "colab_type": "code",
        "colab": {}
      },
      "source": [
        "(x_train, y_train), (x_test, y_test) = tf.keras.datasets.mnist.load_data()\n",
        "x_train = x_train / 255\n",
        "x_test = x_test / 255"
      ],
      "execution_count": 0,
      "outputs": []
    },
    {
      "cell_type": "code",
      "metadata": {
        "id": "adkoUZ-jQPqF",
        "colab_type": "code",
        "colab": {}
      },
      "source": [
        "model = tf.keras.Sequential([\n",
        "  tf.keras.layers.LSTM(64, input_shape=(None, 28)),\n",
        "  tf.keras.layers.BatchNormalization(),\n",
        "  tf.keras.layers.Dense(10, activation='softmax')\n",
        "])"
      ],
      "execution_count": 0,
      "outputs": []
    },
    {
      "cell_type": "code",
      "metadata": {
        "id": "2IyJnHkEQvKA",
        "colab_type": "code",
        "colab": {}
      },
      "source": [
        "model.compile(\n",
        "    optimizer=tf.keras.optimizers.SGD(lr=0.01),\n",
        "    loss=tf.keras.losses.sparse_categorical_crossentropy,\n",
        "    metrics=['accuracy']\n",
        ")"
      ],
      "execution_count": 0,
      "outputs": []
    },
    {
      "cell_type": "code",
      "metadata": {
        "id": "roj1wljnQ2NM",
        "colab_type": "code",
        "colab": {
          "base_uri": "https://localhost:8080/",
          "height": 374
        },
        "outputId": "e39349a5-e790-4331-caa6-e15d3eb4babe"
      },
      "source": [
        "history = model.fit(\n",
        "    x_train, y_train,\n",
        "    epochs=10,\n",
        "    validation_data=(x_test, y_test)\n",
        ")"
      ],
      "execution_count": 7,
      "outputs": [
        {
          "output_type": "stream",
          "text": [
            "Train on 60000 samples, validate on 10000 samples\n",
            "Epoch 1/10\n",
            "60000/60000 [==============================] - 12s 208us/sample - loss: 0.7070 - accuracy: 0.7732 - val_loss: 0.3934 - val_accuracy: 0.8707\n",
            "Epoch 2/10\n",
            "60000/60000 [==============================] - 9s 156us/sample - loss: 0.2560 - accuracy: 0.9209 - val_loss: 0.2281 - val_accuracy: 0.9229\n",
            "Epoch 3/10\n",
            "60000/60000 [==============================] - 10s 159us/sample - loss: 0.1845 - accuracy: 0.9430 - val_loss: 0.1797 - val_accuracy: 0.9450\n",
            "Epoch 4/10\n",
            "60000/60000 [==============================] - 9s 156us/sample - loss: 0.1517 - accuracy: 0.9525 - val_loss: 0.1557 - val_accuracy: 0.9513\n",
            "Epoch 5/10\n",
            "60000/60000 [==============================] - 9s 158us/sample - loss: 0.1289 - accuracy: 0.9606 - val_loss: 0.1007 - val_accuracy: 0.9662\n",
            "Epoch 6/10\n",
            "60000/60000 [==============================] - 9s 158us/sample - loss: 0.1127 - accuracy: 0.9646 - val_loss: 0.0977 - val_accuracy: 0.9666\n",
            "Epoch 7/10\n",
            "60000/60000 [==============================] - 9s 158us/sample - loss: 0.1028 - accuracy: 0.9681 - val_loss: 0.0785 - val_accuracy: 0.9739\n",
            "Epoch 8/10\n",
            "60000/60000 [==============================] - 9s 152us/sample - loss: 0.0942 - accuracy: 0.9713 - val_loss: 0.0787 - val_accuracy: 0.9727\n",
            "Epoch 9/10\n",
            "60000/60000 [==============================] - 10s 160us/sample - loss: 0.0868 - accuracy: 0.9723 - val_loss: 0.0732 - val_accuracy: 0.9751\n",
            "Epoch 10/10\n",
            "60000/60000 [==============================] - 9s 155us/sample - loss: 0.0809 - accuracy: 0.9758 - val_loss: 0.0723 - val_accuracy: 0.9748\n"
          ],
          "name": "stdout"
        }
      ]
    },
    {
      "cell_type": "code",
      "metadata": {
        "id": "bbPt2gCRQ_8h",
        "colab_type": "code",
        "colab": {}
      },
      "source": [
        ""
      ],
      "execution_count": 0,
      "outputs": []
    }
  ]
}